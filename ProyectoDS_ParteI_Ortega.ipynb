{
  "nbformat": 4,
  "nbformat_minor": 0,
  "metadata": {
    "colab": {
      "provenance": [],
      "collapsed_sections": [
        "ZeQuMBGCBrOv",
        "ymBOJM4KBa0Z",
        "Ro0CdrAXCQxG",
        "euzgEHoyKO87"
      ],
      "authorship_tag": "ABX9TyNIn6p2rerohFQ3tKsfipzW",
      "include_colab_link": true
    },
    "kernelspec": {
      "name": "python3",
      "display_name": "Python 3"
    },
    "language_info": {
      "name": "python"
    }
  },
  "cells": [
    {
      "cell_type": "markdown",
      "metadata": {
        "id": "view-in-github",
        "colab_type": "text"
      },
      "source": [
        "<a href=\"https://colab.research.google.com/github/kevjavort11/DS_PrimeraEntrega/blob/main/ProyectoDS_ParteI_Ortega.ipynb\" target=\"_parent\"><img src=\"https://colab.research.google.com/assets/colab-badge.svg\" alt=\"Open In Colab\"/></a>"
      ]
    },
    {
      "cell_type": "markdown",
      "source": [
        "# **Data Science I : Fundamentos para la Ciencia de Datos**\n",
        "\n",
        "**1RA PRE ENTREGA**\n",
        "\n",
        "**Fecha: 25/06/2024**\n",
        "\n",
        "**Estudiante : Ortega Hernandez Kevin Javier**\n",
        "\n",
        "**Objetivos**\n",
        "\n",
        "\n",
        "1. *Preparación de hipótesis*\n",
        "2. *Visualizaciones multivariables*\n",
        "3. *Relación de gráficos - hipotesis*\n",
        "4. *Identificación de datos nulos*\n",
        "5. *Hallazgos de las variables relevantes*\n",
        "\n",
        "\n",
        "# **Dataset:**\n",
        "\n",
        "[CTU-IoT-Malware-Capture-48-1](https://docs.google.com/spreadsheets/d/16rvHjh1RfR3YSPoao5vYDXLG3CG1SZYcNRssSlaEe3U)\n",
        "\n",
        "# **Abstract:**\n",
        "\n",
        "El dataset *CTU-IoT-Malware-Capture-48-1* consta de veintitrés capturas de diferentes tráficos de red IoT. Estos escenarios se dividen en veinte capturas de red de dispositivos IoT infectados (que tendrán el nombre de la muestra de malware ejecutada en cada escenario) y tres capturas de red de tráfico real de dispositivos IoT.\n",
        "\n",
        "En cada escenario malicioso se ejecuto una muestra de malware específica en una Raspberry Pi, que utilizó varios protocolos y realizó diferentes acciones.\n",
        "\n",
        "El tráfico de red capturado para los escenarios benignos se obtuvo capturando el tráfico de red de tres dispositivos IoT diferentes: una lámpara LED inteligente Philips HUE, un asistente personal inteligente para el hogar Amazon Echo y una cerradura inteligente Somfy.\n",
        "\n",
        "Tanto los escenarios maliciosos como los benignos se ejecutan en un entorno de red controlado con conexión a internet sin restricciones como cualquier otro dispositivo IoT real.\n",
        "\n",
        "La columna label especifica si es un ataque (1) o si es trafico benigno (0)\n",
        "\n",
        "El dataset fue tomado de [Kaggle - Malware Detection in Network Traffic Data](https://www.kaggle.com/datasets/agungpambudi/network-malware-detection-connection-analysis)\n",
        "\n"
      ],
      "metadata": {
        "id": "QdVwrkVF8xDT"
      }
    },
    {
      "cell_type": "markdown",
      "source": [
        "# **Diccionario de Datos**\n",
        "\n",
        "1. **Unnamed: 0**: Indice de columna.\n",
        "2. **duration**: Duracion de la conexion en segundos (s).\n",
        "3. **orig_bytes**: Numeros de bytes enviados por el originator.\n",
        "4. **resp_bytes**: Numero de bytes enviados por el responder.\n",
        "5. **local_orig**: Indica si el originator es local.\n",
        "6. **local_resp**: Indica si el responder es local.\n",
        "7. **missed_bytes**: Numero de Bytes perdidos en la conexion.\n",
        "8. **orig_pkts**: Numero de paquetes enviados por el originator.\n",
        "9. **orig_ip_bytes**: Numero de IP bytes enviados por el originator.\n",
        "10. **resp_pkts**: Numero de paquetes enviados por el responder.\n",
        "11. **resp_ip_bytes**: Numero de IP bytes enviados por el responder.\n",
        "12. **conn_state_**: Varios estados de conexion:\n",
        "    - **conn_state_OTH:** No se vio ningún SYN, solo tráfico en medio de la transmisión (un ejemplo de esto es una “conexión parcial” que no se cerró más tarde)\n",
        "    - **conn_state_REJ:** Intento de conexión rechazado\n",
        "    - **conn_state_RSTO** Conexión establecida, el originador abortó (envió un RST)\n",
        "    - **conn_state_RSTOS0** El originador envió un SYN seguido de un RST, nunca vimos un SYN-ACK del respondedor\n",
        "    - **conn_state_RSTR** El respondedor envió un RST\n",
        "    - **conn_state_RSTRH** El respondedor envió un SYN ACK seguido de un RST, nunca vimos un SYN del (supuesto) originador\n",
        "    - **conn_state_S0** Se vio un intento de conexión, no hubo respuesta.\n",
        "    - **conn_state_S1** Conexión establecida, no terminada.\n",
        "    - **conn_state_S2** Conexión establecida y se vio un intento de cierre por parte del originador (pero no hubo respuesta del respondedor)\n",
        "    - **conn_state_S3** Conexión establecida y se vio un intento de cierre por parte del respondedor (pero no hubo respuesta del originador)\n",
        "    - **conn_state_SF** Establecimiento y terminación normales. Nota que este es el mismo símbolo que para el estado S1. Puedes distinguirlos porque para S1 no habrá ningún recuento de bytes en el resumen, mientras que para SF sí lo habrá\n",
        "    - **conn_state_SH** El originador envió un SYN seguido de un FIN, nunca vimos un SYN ACK del respondedor (por lo tanto, la conexión estaba “medio” abierta)\n",
        "    - **conn_state_SHR**  El respondedor envió un SYN ACK seguido de un FIN, nunca vimos un SYN del originador\n",
        "13. **proto_**: Protocolos usados en la conexion:\n",
        "    - **proto_icmp** ICMP (Protocolo de Mensajes de Control de Internet) se utiliza principalmente para enviar mensajes de error y operacionales indicando, por ejemplo, que un servicio solicitado no está disponible o que un host o router no se puede alcanzar.\n",
        "    - **proto_tcp** TCP (Protocolo de Control de Transmisión) es un protocolo de comunicación confiable que permite el envío y recepción de paquetes de datos entre dispositivos. Garantiza que los datos lleguen completos y en el mismo orden en que se transmitieron.\n",
        "    - **proto_udp** UDP (Protocolo de Datagramas de Usuario) es un protocolo de comunicación más simple y rápido que TCP, pero menos confiable. Se utiliza para tareas que requieren transmisiones rápidas, como la transmisión de video o juegos en línea.\n",
        "14. **service_**: Servicios asociados a la conexion:\n",
        "    - **service_dhcp** DHCP (Protocolo de Configuración Dinámica de Host) es un protocolo de red que permite a los dispositivos en una red obtener su configuración de red (como la dirección IP, la máscara de subred, la puerta de enlace predeterminada, los servidores DNS, etc.) de un servidor DHCP de manera automática.\n",
        "    - **service_dns** DNS (Sistema de Nombres de Dominio) es un servicio que traduce los nombres de dominio legibles por humanos (como www.google.com) en direcciones IP numéricas que las máquinas utilizan para identificar y comunicarse entre sí.\n",
        "    - **service_http** HTTP (Protocolo de Transferencia de Hipertexto) es el protocolo subyacente utilizado por la World Wide Web para definir cómo se formatean y transmiten los mensajes, y qué acciones deben tomar los servidores y los navegadores en respuesta a varios comandos.\n",
        "    - **service_irc** IRC (Internet Relay Chat) es un protocolo de comunicación en tiempo real que permite a las personas chatear a través de Internet. Se utiliza principalmente para el chat en grupo en salas de chat, pero también permite la comunicación uno a uno.\n",
        "    - **service_other** Esta etiqueta se utiliza para clasificar cualquier tráfico que no se ajuste a ninguno de los otros servicios definidos.\n",
        "    - **service_ssl** SSL (Secure Sockets Layer) es un protocolo de seguridad que proporciona comunicaciones seguras en Internet para servicios como correo electrónico, transferencia de archivos y otros datos.\n",
        "    - **service_ssh** SSH (Secure Shell) es un protocolo de red que proporciona a los administradores una forma segura de acceder a una computadora a través de una red no segura. SSH también se refiere al conjunto de utilidades que implementan el protocolo.\n",
        "    - **service_tcp** TCP (Protocolo de Control de Transmisión) es uno de los protocolos principales en el conjunto de protocolos de Internet. Es uno de los dos protocolos de comunicación originales utilizados en Internet y todavía se usa ampliamente hoy en día.\n",
        "    - **service_udp** UDP (Protocolo de Datagramas de Usuario) es un protocolo de comunicación simple utilizado en la red de Internet. A diferencia del TCP, no proporciona las características de fiabilidad y ordenación de los paquetes de datos.\n",
        "15. **multi_label**: Tipos de ataques asociados a la conexion.\n",
        "    - **Attack:** esta etiqueta indica que hubo algún tipo de ataque desde el dispositivo infectado a otro host. Aquí estamos etiquetando como ataque a cualquier flujo que, al analizar su carga útil y comportamiento, intenta aprovechar algún servicio vulnerable. Por ejemplo, un ataque de fuerza bruta a algún inicio de sesión de telnet, una inyección de comandos en el encabezado de una solicitud GET, etc.\n",
        "\n",
        "    - ***Benign:*** esta etiqueta indica que no se encontraron actividades sospechosas o maliciosas en las conexiones.\n",
        "\n",
        "    - ***C&C:*** esta etiqueta indica que el dispositivo infectado estaba conectado a un servidor C&C. Esta actividad se detectó en el análisis de la captura de malware de red porque las conexiones al servidor sospechoso son periódicas o nuestro dispositivo infectado está descargando algunos binarios de él o algunas órdenes similares a IRC o decodificadas van y vienen de él.\n",
        "\n",
        "    - ***FileDownload:*** esta etiqueta indica que se está descargando un archivo a nuestro dispositivo infectado. Esto se detecta filtrando conexiones con bytes de respuesta superiores a 3KB o 5KB, normalmente esto se combina con algún puerto de destino sospechoso conocido o una dirección IP de destino conocida por ser un servidor C&C.\n",
        "\n",
        "    - ***HeartBeat:*** esta etiqueta indica que los paquetes enviados en esta conexión se utilizan para mantener un seguimiento del host infectado por el servidor C&C. Esto se detectó filtrando conexiones con bytes de respuesta inferiores a 1B y con conexiones periódicas similares, normalmente esto se combina con algún puerto de destino sospechoso conocido o una dirección IP de destino conocida por ser un servidor C&C.\n",
        "\n",
        "    - ***PartOfAHorizontalPortScan:*** esta etiqueta indica que las conexiones se utilizan para hacer un escaneo de puertos horizontal para recopilar información para realizar más ataques. Para poner estas etiquetas nos basamos en el patrón en el que las conexiones comparten el mismo puerto, un número similar de bytes transmitidos y múltiples direcciones IP de destino diferentes.\n",
        "\n"
      ],
      "metadata": {
        "id": "8Qzng7x38W7r"
      }
    },
    {
      "cell_type": "markdown",
      "source": [
        "# **IMPORTACIONES**"
      ],
      "metadata": {
        "id": "tXoE1hO8BATS"
      }
    },
    {
      "cell_type": "markdown",
      "source": [
        "**Importacion de librerias**"
      ],
      "metadata": {
        "id": "sm_V0eiPBEYm"
      }
    },
    {
      "cell_type": "code",
      "source": [
        "# Se importaran las librerias necesarias para el desarrollo de las actividades:\n",
        "# pandas para tratamiento y manipulacion de los datasets\n",
        "# seaborn para visualizacion avanzada\n",
        "# google.colab para el acceso al dataset ubicado en el Google Drive\n",
        "\n",
        "import pandas as pd\n",
        "import seaborn as sns\n",
        "from google.colab import drive"
      ],
      "metadata": {
        "id": "JjuPTKnZtZrA"
      },
      "execution_count": 315,
      "outputs": []
    },
    {
      "cell_type": "markdown",
      "source": [
        "**Importacion del dataset desde Drive**"
      ],
      "metadata": {
        "id": "3z_ZozcVBU8k"
      }
    },
    {
      "cell_type": "code",
      "source": [
        "drive.flush_and_unmount()\n",
        "drive.mount('/content/drive')"
      ],
      "metadata": {
        "colab": {
          "base_uri": "https://localhost:8080/"
        },
        "id": "hUPfOe1yTV09",
        "outputId": "69d832a4-b7f8-4912-ea08-2ae2e798f1be"
      },
      "execution_count": 299,
      "outputs": [
        {
          "output_type": "stream",
          "name": "stdout",
          "text": [
            "Mounted at /content/drive\n"
          ]
        }
      ]
    },
    {
      "source": [
        "file_path = '/content/drive/My Drive/CoderHouseDatasets/CTU-IoT-Malware-Capture-48-1.csv'\n",
        "df = pd.read_csv(file_path, sep=',')"
      ],
      "cell_type": "code",
      "metadata": {
        "id": "Hw-nj6mbD7zU"
      },
      "execution_count": 300,
      "outputs": []
    },
    {
      "cell_type": "markdown",
      "source": [
        "# **Pre-visualizacion del dataset**"
      ],
      "metadata": {
        "id": "ZeQuMBGCBrOv"
      }
    },
    {
      "cell_type": "code",
      "source": [
        "df.head()"
      ],
      "metadata": {
        "colab": {
          "base_uri": "https://localhost:8080/",
          "height": 0
        },
        "id": "jcLq5yGWCJ1H",
        "outputId": "12583b52-e71d-4fea-e41b-3d0d6508bbb3"
      },
      "execution_count": 301,
      "outputs": [
        {
          "output_type": "execute_result",
          "data": {
            "text/plain": [
              "   Unnamed: 0  duration  orig_bytes  resp_bytes local_orig local_resp  \\\n",
              "0           0  1.978591         149      119442          -          -   \n",
              "1           1  2.182247         149      119442          -          -   \n",
              "2           2  1.675550         152       83118          -          -   \n",
              "3           3  1.798966         149       88797          -          -   \n",
              "4           4  1.938142         149      117700          -          -   \n",
              "\n",
              "   missed_bytes  orig_pkts  orig_ip_bytes  resp_pkts  ...  conn_state_RSTOS0  \\\n",
              "0           0.0      174.0        11698.0      172.0  ...                  0   \n",
              "1           0.0      172.0        11570.0      170.0  ...                  0   \n",
              "2           0.0      124.0         8120.0      122.0  ...                  0   \n",
              "3           0.0      136.0         8578.0      134.0  ...                  0   \n",
              "4           0.0      170.0        11602.0      170.0  ...                  0   \n",
              "\n",
              "   conn_state_RSTR  conn_state_RSTRH conn_state_S0  conn_state_S1  \\\n",
              "0                0                 0             0              0   \n",
              "1                0                 0             0              0   \n",
              "2                0                 0             0              0   \n",
              "3                0                 0             0              0   \n",
              "4                0                 0             0              0   \n",
              "\n",
              "   conn_state_S2  conn_state_S3  conn_state_SF  conn_state_SH  conn_state_SHR  \n",
              "0              0              0              1              0               0  \n",
              "1              0              0              1              0               0  \n",
              "2              0              0              1              0               0  \n",
              "3              0              0              1              0               0  \n",
              "4              0              0              1              0               0  \n",
              "\n",
              "[5 rows x 37 columns]"
            ],
            "text/html": [
              "\n",
              "  <div id=\"df-0028bac7-6cf3-4cac-ad68-f6e04f6cba9c\" class=\"colab-df-container\">\n",
              "    <div>\n",
              "<style scoped>\n",
              "    .dataframe tbody tr th:only-of-type {\n",
              "        vertical-align: middle;\n",
              "    }\n",
              "\n",
              "    .dataframe tbody tr th {\n",
              "        vertical-align: top;\n",
              "    }\n",
              "\n",
              "    .dataframe thead th {\n",
              "        text-align: right;\n",
              "    }\n",
              "</style>\n",
              "<table border=\"1\" class=\"dataframe\">\n",
              "  <thead>\n",
              "    <tr style=\"text-align: right;\">\n",
              "      <th></th>\n",
              "      <th>Unnamed: 0</th>\n",
              "      <th>duration</th>\n",
              "      <th>orig_bytes</th>\n",
              "      <th>resp_bytes</th>\n",
              "      <th>local_orig</th>\n",
              "      <th>local_resp</th>\n",
              "      <th>missed_bytes</th>\n",
              "      <th>orig_pkts</th>\n",
              "      <th>orig_ip_bytes</th>\n",
              "      <th>resp_pkts</th>\n",
              "      <th>...</th>\n",
              "      <th>conn_state_RSTOS0</th>\n",
              "      <th>conn_state_RSTR</th>\n",
              "      <th>conn_state_RSTRH</th>\n",
              "      <th>conn_state_S0</th>\n",
              "      <th>conn_state_S1</th>\n",
              "      <th>conn_state_S2</th>\n",
              "      <th>conn_state_S3</th>\n",
              "      <th>conn_state_SF</th>\n",
              "      <th>conn_state_SH</th>\n",
              "      <th>conn_state_SHR</th>\n",
              "    </tr>\n",
              "  </thead>\n",
              "  <tbody>\n",
              "    <tr>\n",
              "      <th>0</th>\n",
              "      <td>0</td>\n",
              "      <td>1.978591</td>\n",
              "      <td>149</td>\n",
              "      <td>119442</td>\n",
              "      <td>-</td>\n",
              "      <td>-</td>\n",
              "      <td>0.0</td>\n",
              "      <td>174.0</td>\n",
              "      <td>11698.0</td>\n",
              "      <td>172.0</td>\n",
              "      <td>...</td>\n",
              "      <td>0</td>\n",
              "      <td>0</td>\n",
              "      <td>0</td>\n",
              "      <td>0</td>\n",
              "      <td>0</td>\n",
              "      <td>0</td>\n",
              "      <td>0</td>\n",
              "      <td>1</td>\n",
              "      <td>0</td>\n",
              "      <td>0</td>\n",
              "    </tr>\n",
              "    <tr>\n",
              "      <th>1</th>\n",
              "      <td>1</td>\n",
              "      <td>2.182247</td>\n",
              "      <td>149</td>\n",
              "      <td>119442</td>\n",
              "      <td>-</td>\n",
              "      <td>-</td>\n",
              "      <td>0.0</td>\n",
              "      <td>172.0</td>\n",
              "      <td>11570.0</td>\n",
              "      <td>170.0</td>\n",
              "      <td>...</td>\n",
              "      <td>0</td>\n",
              "      <td>0</td>\n",
              "      <td>0</td>\n",
              "      <td>0</td>\n",
              "      <td>0</td>\n",
              "      <td>0</td>\n",
              "      <td>0</td>\n",
              "      <td>1</td>\n",
              "      <td>0</td>\n",
              "      <td>0</td>\n",
              "    </tr>\n",
              "    <tr>\n",
              "      <th>2</th>\n",
              "      <td>2</td>\n",
              "      <td>1.675550</td>\n",
              "      <td>152</td>\n",
              "      <td>83118</td>\n",
              "      <td>-</td>\n",
              "      <td>-</td>\n",
              "      <td>0.0</td>\n",
              "      <td>124.0</td>\n",
              "      <td>8120.0</td>\n",
              "      <td>122.0</td>\n",
              "      <td>...</td>\n",
              "      <td>0</td>\n",
              "      <td>0</td>\n",
              "      <td>0</td>\n",
              "      <td>0</td>\n",
              "      <td>0</td>\n",
              "      <td>0</td>\n",
              "      <td>0</td>\n",
              "      <td>1</td>\n",
              "      <td>0</td>\n",
              "      <td>0</td>\n",
              "    </tr>\n",
              "    <tr>\n",
              "      <th>3</th>\n",
              "      <td>3</td>\n",
              "      <td>1.798966</td>\n",
              "      <td>149</td>\n",
              "      <td>88797</td>\n",
              "      <td>-</td>\n",
              "      <td>-</td>\n",
              "      <td>0.0</td>\n",
              "      <td>136.0</td>\n",
              "      <td>8578.0</td>\n",
              "      <td>134.0</td>\n",
              "      <td>...</td>\n",
              "      <td>0</td>\n",
              "      <td>0</td>\n",
              "      <td>0</td>\n",
              "      <td>0</td>\n",
              "      <td>0</td>\n",
              "      <td>0</td>\n",
              "      <td>0</td>\n",
              "      <td>1</td>\n",
              "      <td>0</td>\n",
              "      <td>0</td>\n",
              "    </tr>\n",
              "    <tr>\n",
              "      <th>4</th>\n",
              "      <td>4</td>\n",
              "      <td>1.938142</td>\n",
              "      <td>149</td>\n",
              "      <td>117700</td>\n",
              "      <td>-</td>\n",
              "      <td>-</td>\n",
              "      <td>0.0</td>\n",
              "      <td>170.0</td>\n",
              "      <td>11602.0</td>\n",
              "      <td>170.0</td>\n",
              "      <td>...</td>\n",
              "      <td>0</td>\n",
              "      <td>0</td>\n",
              "      <td>0</td>\n",
              "      <td>0</td>\n",
              "      <td>0</td>\n",
              "      <td>0</td>\n",
              "      <td>0</td>\n",
              "      <td>1</td>\n",
              "      <td>0</td>\n",
              "      <td>0</td>\n",
              "    </tr>\n",
              "  </tbody>\n",
              "</table>\n",
              "<p>5 rows × 37 columns</p>\n",
              "</div>\n",
              "    <div class=\"colab-df-buttons\">\n",
              "\n",
              "  <div class=\"colab-df-container\">\n",
              "    <button class=\"colab-df-convert\" onclick=\"convertToInteractive('df-0028bac7-6cf3-4cac-ad68-f6e04f6cba9c')\"\n",
              "            title=\"Convert this dataframe to an interactive table.\"\n",
              "            style=\"display:none;\">\n",
              "\n",
              "  <svg xmlns=\"http://www.w3.org/2000/svg\" height=\"24px\" viewBox=\"0 -960 960 960\">\n",
              "    <path d=\"M120-120v-720h720v720H120Zm60-500h600v-160H180v160Zm220 220h160v-160H400v160Zm0 220h160v-160H400v160ZM180-400h160v-160H180v160Zm440 0h160v-160H620v160ZM180-180h160v-160H180v160Zm440 0h160v-160H620v160Z\"/>\n",
              "  </svg>\n",
              "    </button>\n",
              "\n",
              "  <style>\n",
              "    .colab-df-container {\n",
              "      display:flex;\n",
              "      gap: 12px;\n",
              "    }\n",
              "\n",
              "    .colab-df-convert {\n",
              "      background-color: #E8F0FE;\n",
              "      border: none;\n",
              "      border-radius: 50%;\n",
              "      cursor: pointer;\n",
              "      display: none;\n",
              "      fill: #1967D2;\n",
              "      height: 32px;\n",
              "      padding: 0 0 0 0;\n",
              "      width: 32px;\n",
              "    }\n",
              "\n",
              "    .colab-df-convert:hover {\n",
              "      background-color: #E2EBFA;\n",
              "      box-shadow: 0px 1px 2px rgba(60, 64, 67, 0.3), 0px 1px 3px 1px rgba(60, 64, 67, 0.15);\n",
              "      fill: #174EA6;\n",
              "    }\n",
              "\n",
              "    .colab-df-buttons div {\n",
              "      margin-bottom: 4px;\n",
              "    }\n",
              "\n",
              "    [theme=dark] .colab-df-convert {\n",
              "      background-color: #3B4455;\n",
              "      fill: #D2E3FC;\n",
              "    }\n",
              "\n",
              "    [theme=dark] .colab-df-convert:hover {\n",
              "      background-color: #434B5C;\n",
              "      box-shadow: 0px 1px 3px 1px rgba(0, 0, 0, 0.15);\n",
              "      filter: drop-shadow(0px 1px 2px rgba(0, 0, 0, 0.3));\n",
              "      fill: #FFFFFF;\n",
              "    }\n",
              "  </style>\n",
              "\n",
              "    <script>\n",
              "      const buttonEl =\n",
              "        document.querySelector('#df-0028bac7-6cf3-4cac-ad68-f6e04f6cba9c button.colab-df-convert');\n",
              "      buttonEl.style.display =\n",
              "        google.colab.kernel.accessAllowed ? 'block' : 'none';\n",
              "\n",
              "      async function convertToInteractive(key) {\n",
              "        const element = document.querySelector('#df-0028bac7-6cf3-4cac-ad68-f6e04f6cba9c');\n",
              "        const dataTable =\n",
              "          await google.colab.kernel.invokeFunction('convertToInteractive',\n",
              "                                                    [key], {});\n",
              "        if (!dataTable) return;\n",
              "\n",
              "        const docLinkHtml = 'Like what you see? Visit the ' +\n",
              "          '<a target=\"_blank\" href=https://colab.research.google.com/notebooks/data_table.ipynb>data table notebook</a>'\n",
              "          + ' to learn more about interactive tables.';\n",
              "        element.innerHTML = '';\n",
              "        dataTable['output_type'] = 'display_data';\n",
              "        await google.colab.output.renderOutput(dataTable, element);\n",
              "        const docLink = document.createElement('div');\n",
              "        docLink.innerHTML = docLinkHtml;\n",
              "        element.appendChild(docLink);\n",
              "      }\n",
              "    </script>\n",
              "  </div>\n",
              "\n",
              "\n",
              "<div id=\"df-c08764ea-8217-4d71-a938-608577cd4ba8\">\n",
              "  <button class=\"colab-df-quickchart\" onclick=\"quickchart('df-c08764ea-8217-4d71-a938-608577cd4ba8')\"\n",
              "            title=\"Suggest charts\"\n",
              "            style=\"display:none;\">\n",
              "\n",
              "<svg xmlns=\"http://www.w3.org/2000/svg\" height=\"24px\"viewBox=\"0 0 24 24\"\n",
              "     width=\"24px\">\n",
              "    <g>\n",
              "        <path d=\"M19 3H5c-1.1 0-2 .9-2 2v14c0 1.1.9 2 2 2h14c1.1 0 2-.9 2-2V5c0-1.1-.9-2-2-2zM9 17H7v-7h2v7zm4 0h-2V7h2v10zm4 0h-2v-4h2v4z\"/>\n",
              "    </g>\n",
              "</svg>\n",
              "  </button>\n",
              "\n",
              "<style>\n",
              "  .colab-df-quickchart {\n",
              "      --bg-color: #E8F0FE;\n",
              "      --fill-color: #1967D2;\n",
              "      --hover-bg-color: #E2EBFA;\n",
              "      --hover-fill-color: #174EA6;\n",
              "      --disabled-fill-color: #AAA;\n",
              "      --disabled-bg-color: #DDD;\n",
              "  }\n",
              "\n",
              "  [theme=dark] .colab-df-quickchart {\n",
              "      --bg-color: #3B4455;\n",
              "      --fill-color: #D2E3FC;\n",
              "      --hover-bg-color: #434B5C;\n",
              "      --hover-fill-color: #FFFFFF;\n",
              "      --disabled-bg-color: #3B4455;\n",
              "      --disabled-fill-color: #666;\n",
              "  }\n",
              "\n",
              "  .colab-df-quickchart {\n",
              "    background-color: var(--bg-color);\n",
              "    border: none;\n",
              "    border-radius: 50%;\n",
              "    cursor: pointer;\n",
              "    display: none;\n",
              "    fill: var(--fill-color);\n",
              "    height: 32px;\n",
              "    padding: 0;\n",
              "    width: 32px;\n",
              "  }\n",
              "\n",
              "  .colab-df-quickchart:hover {\n",
              "    background-color: var(--hover-bg-color);\n",
              "    box-shadow: 0 1px 2px rgba(60, 64, 67, 0.3), 0 1px 3px 1px rgba(60, 64, 67, 0.15);\n",
              "    fill: var(--button-hover-fill-color);\n",
              "  }\n",
              "\n",
              "  .colab-df-quickchart-complete:disabled,\n",
              "  .colab-df-quickchart-complete:disabled:hover {\n",
              "    background-color: var(--disabled-bg-color);\n",
              "    fill: var(--disabled-fill-color);\n",
              "    box-shadow: none;\n",
              "  }\n",
              "\n",
              "  .colab-df-spinner {\n",
              "    border: 2px solid var(--fill-color);\n",
              "    border-color: transparent;\n",
              "    border-bottom-color: var(--fill-color);\n",
              "    animation:\n",
              "      spin 1s steps(1) infinite;\n",
              "  }\n",
              "\n",
              "  @keyframes spin {\n",
              "    0% {\n",
              "      border-color: transparent;\n",
              "      border-bottom-color: var(--fill-color);\n",
              "      border-left-color: var(--fill-color);\n",
              "    }\n",
              "    20% {\n",
              "      border-color: transparent;\n",
              "      border-left-color: var(--fill-color);\n",
              "      border-top-color: var(--fill-color);\n",
              "    }\n",
              "    30% {\n",
              "      border-color: transparent;\n",
              "      border-left-color: var(--fill-color);\n",
              "      border-top-color: var(--fill-color);\n",
              "      border-right-color: var(--fill-color);\n",
              "    }\n",
              "    40% {\n",
              "      border-color: transparent;\n",
              "      border-right-color: var(--fill-color);\n",
              "      border-top-color: var(--fill-color);\n",
              "    }\n",
              "    60% {\n",
              "      border-color: transparent;\n",
              "      border-right-color: var(--fill-color);\n",
              "    }\n",
              "    80% {\n",
              "      border-color: transparent;\n",
              "      border-right-color: var(--fill-color);\n",
              "      border-bottom-color: var(--fill-color);\n",
              "    }\n",
              "    90% {\n",
              "      border-color: transparent;\n",
              "      border-bottom-color: var(--fill-color);\n",
              "    }\n",
              "  }\n",
              "</style>\n",
              "\n",
              "  <script>\n",
              "    async function quickchart(key) {\n",
              "      const quickchartButtonEl =\n",
              "        document.querySelector('#' + key + ' button');\n",
              "      quickchartButtonEl.disabled = true;  // To prevent multiple clicks.\n",
              "      quickchartButtonEl.classList.add('colab-df-spinner');\n",
              "      try {\n",
              "        const charts = await google.colab.kernel.invokeFunction(\n",
              "            'suggestCharts', [key], {});\n",
              "      } catch (error) {\n",
              "        console.error('Error during call to suggestCharts:', error);\n",
              "      }\n",
              "      quickchartButtonEl.classList.remove('colab-df-spinner');\n",
              "      quickchartButtonEl.classList.add('colab-df-quickchart-complete');\n",
              "    }\n",
              "    (() => {\n",
              "      let quickchartButtonEl =\n",
              "        document.querySelector('#df-c08764ea-8217-4d71-a938-608577cd4ba8 button');\n",
              "      quickchartButtonEl.style.display =\n",
              "        google.colab.kernel.accessAllowed ? 'block' : 'none';\n",
              "    })();\n",
              "  </script>\n",
              "</div>\n",
              "\n",
              "    </div>\n",
              "  </div>\n"
            ],
            "application/vnd.google.colaboratory.intrinsic+json": {
              "type": "dataframe",
              "variable_name": "df"
            }
          },
          "metadata": {},
          "execution_count": 301
        }
      ]
    },
    {
      "cell_type": "code",
      "source": [
        "df.tail()"
      ],
      "metadata": {
        "id": "-rjLutWXENcw",
        "colab": {
          "base_uri": "https://localhost:8080/",
          "height": 0
        },
        "outputId": "2e949fe7-e2ae-40f7-a72b-7ccb4b34216b"
      },
      "execution_count": 302,
      "outputs": [
        {
          "output_type": "execute_result",
          "data": {
            "text/plain": [
              "       Unnamed: 0    duration  orig_bytes  resp_bytes local_orig local_resp  \\\n",
              "40720       40720  133.200167           0           0          -          -   \n",
              "40721       40721  144.768452           0           0          -          -   \n",
              "40722       40722  104.514531           0           0          -          -   \n",
              "40723       40723  233.356672           0           0          -          -   \n",
              "40724       40724    0.288586           0           0          -          -   \n",
              "\n",
              "       missed_bytes  orig_pkts  orig_ip_bytes  resp_pkts  ...  \\\n",
              "40720           0.0       16.0          680.0        2.0  ...   \n",
              "40721           0.0       20.0          880.0        2.0  ...   \n",
              "40722           0.0       18.0          760.0        2.0  ...   \n",
              "40723           0.0       16.0          720.0        2.0  ...   \n",
              "40724           0.0        2.0          120.0        2.0  ...   \n",
              "\n",
              "       conn_state_RSTOS0  conn_state_RSTR  conn_state_RSTRH conn_state_S0  \\\n",
              "40720                  0                0                 0             0   \n",
              "40721                  0                0                 0             0   \n",
              "40722                  0                0                 0             0   \n",
              "40723                  0                0                 0             0   \n",
              "40724                  0                0                 0             0   \n",
              "\n",
              "       conn_state_S1  conn_state_S2  conn_state_S3  conn_state_SF  \\\n",
              "40720              0              1              0              0   \n",
              "40721              0              1              0              0   \n",
              "40722              0              1              0              0   \n",
              "40723              1              0              0              0   \n",
              "40724              0              0              0              0   \n",
              "\n",
              "       conn_state_SH  conn_state_SHR  \n",
              "40720              0               0  \n",
              "40721              0               0  \n",
              "40722              0               0  \n",
              "40723              0               0  \n",
              "40724              0               0  \n",
              "\n",
              "[5 rows x 37 columns]"
            ],
            "text/html": [
              "\n",
              "  <div id=\"df-25231818-f378-4a20-a65c-0c150a7b154f\" class=\"colab-df-container\">\n",
              "    <div>\n",
              "<style scoped>\n",
              "    .dataframe tbody tr th:only-of-type {\n",
              "        vertical-align: middle;\n",
              "    }\n",
              "\n",
              "    .dataframe tbody tr th {\n",
              "        vertical-align: top;\n",
              "    }\n",
              "\n",
              "    .dataframe thead th {\n",
              "        text-align: right;\n",
              "    }\n",
              "</style>\n",
              "<table border=\"1\" class=\"dataframe\">\n",
              "  <thead>\n",
              "    <tr style=\"text-align: right;\">\n",
              "      <th></th>\n",
              "      <th>Unnamed: 0</th>\n",
              "      <th>duration</th>\n",
              "      <th>orig_bytes</th>\n",
              "      <th>resp_bytes</th>\n",
              "      <th>local_orig</th>\n",
              "      <th>local_resp</th>\n",
              "      <th>missed_bytes</th>\n",
              "      <th>orig_pkts</th>\n",
              "      <th>orig_ip_bytes</th>\n",
              "      <th>resp_pkts</th>\n",
              "      <th>...</th>\n",
              "      <th>conn_state_RSTOS0</th>\n",
              "      <th>conn_state_RSTR</th>\n",
              "      <th>conn_state_RSTRH</th>\n",
              "      <th>conn_state_S0</th>\n",
              "      <th>conn_state_S1</th>\n",
              "      <th>conn_state_S2</th>\n",
              "      <th>conn_state_S3</th>\n",
              "      <th>conn_state_SF</th>\n",
              "      <th>conn_state_SH</th>\n",
              "      <th>conn_state_SHR</th>\n",
              "    </tr>\n",
              "  </thead>\n",
              "  <tbody>\n",
              "    <tr>\n",
              "      <th>40720</th>\n",
              "      <td>40720</td>\n",
              "      <td>133.200167</td>\n",
              "      <td>0</td>\n",
              "      <td>0</td>\n",
              "      <td>-</td>\n",
              "      <td>-</td>\n",
              "      <td>0.0</td>\n",
              "      <td>16.0</td>\n",
              "      <td>680.0</td>\n",
              "      <td>2.0</td>\n",
              "      <td>...</td>\n",
              "      <td>0</td>\n",
              "      <td>0</td>\n",
              "      <td>0</td>\n",
              "      <td>0</td>\n",
              "      <td>0</td>\n",
              "      <td>1</td>\n",
              "      <td>0</td>\n",
              "      <td>0</td>\n",
              "      <td>0</td>\n",
              "      <td>0</td>\n",
              "    </tr>\n",
              "    <tr>\n",
              "      <th>40721</th>\n",
              "      <td>40721</td>\n",
              "      <td>144.768452</td>\n",
              "      <td>0</td>\n",
              "      <td>0</td>\n",
              "      <td>-</td>\n",
              "      <td>-</td>\n",
              "      <td>0.0</td>\n",
              "      <td>20.0</td>\n",
              "      <td>880.0</td>\n",
              "      <td>2.0</td>\n",
              "      <td>...</td>\n",
              "      <td>0</td>\n",
              "      <td>0</td>\n",
              "      <td>0</td>\n",
              "      <td>0</td>\n",
              "      <td>0</td>\n",
              "      <td>1</td>\n",
              "      <td>0</td>\n",
              "      <td>0</td>\n",
              "      <td>0</td>\n",
              "      <td>0</td>\n",
              "    </tr>\n",
              "    <tr>\n",
              "      <th>40722</th>\n",
              "      <td>40722</td>\n",
              "      <td>104.514531</td>\n",
              "      <td>0</td>\n",
              "      <td>0</td>\n",
              "      <td>-</td>\n",
              "      <td>-</td>\n",
              "      <td>0.0</td>\n",
              "      <td>18.0</td>\n",
              "      <td>760.0</td>\n",
              "      <td>2.0</td>\n",
              "      <td>...</td>\n",
              "      <td>0</td>\n",
              "      <td>0</td>\n",
              "      <td>0</td>\n",
              "      <td>0</td>\n",
              "      <td>0</td>\n",
              "      <td>1</td>\n",
              "      <td>0</td>\n",
              "      <td>0</td>\n",
              "      <td>0</td>\n",
              "      <td>0</td>\n",
              "    </tr>\n",
              "    <tr>\n",
              "      <th>40723</th>\n",
              "      <td>40723</td>\n",
              "      <td>233.356672</td>\n",
              "      <td>0</td>\n",
              "      <td>0</td>\n",
              "      <td>-</td>\n",
              "      <td>-</td>\n",
              "      <td>0.0</td>\n",
              "      <td>16.0</td>\n",
              "      <td>720.0</td>\n",
              "      <td>2.0</td>\n",
              "      <td>...</td>\n",
              "      <td>0</td>\n",
              "      <td>0</td>\n",
              "      <td>0</td>\n",
              "      <td>0</td>\n",
              "      <td>1</td>\n",
              "      <td>0</td>\n",
              "      <td>0</td>\n",
              "      <td>0</td>\n",
              "      <td>0</td>\n",
              "      <td>0</td>\n",
              "    </tr>\n",
              "    <tr>\n",
              "      <th>40724</th>\n",
              "      <td>40724</td>\n",
              "      <td>0.288586</td>\n",
              "      <td>0</td>\n",
              "      <td>0</td>\n",
              "      <td>-</td>\n",
              "      <td>-</td>\n",
              "      <td>0.0</td>\n",
              "      <td>2.0</td>\n",
              "      <td>120.0</td>\n",
              "      <td>2.0</td>\n",
              "      <td>...</td>\n",
              "      <td>0</td>\n",
              "      <td>0</td>\n",
              "      <td>0</td>\n",
              "      <td>0</td>\n",
              "      <td>0</td>\n",
              "      <td>0</td>\n",
              "      <td>0</td>\n",
              "      <td>0</td>\n",
              "      <td>0</td>\n",
              "      <td>0</td>\n",
              "    </tr>\n",
              "  </tbody>\n",
              "</table>\n",
              "<p>5 rows × 37 columns</p>\n",
              "</div>\n",
              "    <div class=\"colab-df-buttons\">\n",
              "\n",
              "  <div class=\"colab-df-container\">\n",
              "    <button class=\"colab-df-convert\" onclick=\"convertToInteractive('df-25231818-f378-4a20-a65c-0c150a7b154f')\"\n",
              "            title=\"Convert this dataframe to an interactive table.\"\n",
              "            style=\"display:none;\">\n",
              "\n",
              "  <svg xmlns=\"http://www.w3.org/2000/svg\" height=\"24px\" viewBox=\"0 -960 960 960\">\n",
              "    <path d=\"M120-120v-720h720v720H120Zm60-500h600v-160H180v160Zm220 220h160v-160H400v160Zm0 220h160v-160H400v160ZM180-400h160v-160H180v160Zm440 0h160v-160H620v160ZM180-180h160v-160H180v160Zm440 0h160v-160H620v160Z\"/>\n",
              "  </svg>\n",
              "    </button>\n",
              "\n",
              "  <style>\n",
              "    .colab-df-container {\n",
              "      display:flex;\n",
              "      gap: 12px;\n",
              "    }\n",
              "\n",
              "    .colab-df-convert {\n",
              "      background-color: #E8F0FE;\n",
              "      border: none;\n",
              "      border-radius: 50%;\n",
              "      cursor: pointer;\n",
              "      display: none;\n",
              "      fill: #1967D2;\n",
              "      height: 32px;\n",
              "      padding: 0 0 0 0;\n",
              "      width: 32px;\n",
              "    }\n",
              "\n",
              "    .colab-df-convert:hover {\n",
              "      background-color: #E2EBFA;\n",
              "      box-shadow: 0px 1px 2px rgba(60, 64, 67, 0.3), 0px 1px 3px 1px rgba(60, 64, 67, 0.15);\n",
              "      fill: #174EA6;\n",
              "    }\n",
              "\n",
              "    .colab-df-buttons div {\n",
              "      margin-bottom: 4px;\n",
              "    }\n",
              "\n",
              "    [theme=dark] .colab-df-convert {\n",
              "      background-color: #3B4455;\n",
              "      fill: #D2E3FC;\n",
              "    }\n",
              "\n",
              "    [theme=dark] .colab-df-convert:hover {\n",
              "      background-color: #434B5C;\n",
              "      box-shadow: 0px 1px 3px 1px rgba(0, 0, 0, 0.15);\n",
              "      filter: drop-shadow(0px 1px 2px rgba(0, 0, 0, 0.3));\n",
              "      fill: #FFFFFF;\n",
              "    }\n",
              "  </style>\n",
              "\n",
              "    <script>\n",
              "      const buttonEl =\n",
              "        document.querySelector('#df-25231818-f378-4a20-a65c-0c150a7b154f button.colab-df-convert');\n",
              "      buttonEl.style.display =\n",
              "        google.colab.kernel.accessAllowed ? 'block' : 'none';\n",
              "\n",
              "      async function convertToInteractive(key) {\n",
              "        const element = document.querySelector('#df-25231818-f378-4a20-a65c-0c150a7b154f');\n",
              "        const dataTable =\n",
              "          await google.colab.kernel.invokeFunction('convertToInteractive',\n",
              "                                                    [key], {});\n",
              "        if (!dataTable) return;\n",
              "\n",
              "        const docLinkHtml = 'Like what you see? Visit the ' +\n",
              "          '<a target=\"_blank\" href=https://colab.research.google.com/notebooks/data_table.ipynb>data table notebook</a>'\n",
              "          + ' to learn more about interactive tables.';\n",
              "        element.innerHTML = '';\n",
              "        dataTable['output_type'] = 'display_data';\n",
              "        await google.colab.output.renderOutput(dataTable, element);\n",
              "        const docLink = document.createElement('div');\n",
              "        docLink.innerHTML = docLinkHtml;\n",
              "        element.appendChild(docLink);\n",
              "      }\n",
              "    </script>\n",
              "  </div>\n",
              "\n",
              "\n",
              "<div id=\"df-98b4632c-974b-424a-acb4-871968e23abe\">\n",
              "  <button class=\"colab-df-quickchart\" onclick=\"quickchart('df-98b4632c-974b-424a-acb4-871968e23abe')\"\n",
              "            title=\"Suggest charts\"\n",
              "            style=\"display:none;\">\n",
              "\n",
              "<svg xmlns=\"http://www.w3.org/2000/svg\" height=\"24px\"viewBox=\"0 0 24 24\"\n",
              "     width=\"24px\">\n",
              "    <g>\n",
              "        <path d=\"M19 3H5c-1.1 0-2 .9-2 2v14c0 1.1.9 2 2 2h14c1.1 0 2-.9 2-2V5c0-1.1-.9-2-2-2zM9 17H7v-7h2v7zm4 0h-2V7h2v10zm4 0h-2v-4h2v4z\"/>\n",
              "    </g>\n",
              "</svg>\n",
              "  </button>\n",
              "\n",
              "<style>\n",
              "  .colab-df-quickchart {\n",
              "      --bg-color: #E8F0FE;\n",
              "      --fill-color: #1967D2;\n",
              "      --hover-bg-color: #E2EBFA;\n",
              "      --hover-fill-color: #174EA6;\n",
              "      --disabled-fill-color: #AAA;\n",
              "      --disabled-bg-color: #DDD;\n",
              "  }\n",
              "\n",
              "  [theme=dark] .colab-df-quickchart {\n",
              "      --bg-color: #3B4455;\n",
              "      --fill-color: #D2E3FC;\n",
              "      --hover-bg-color: #434B5C;\n",
              "      --hover-fill-color: #FFFFFF;\n",
              "      --disabled-bg-color: #3B4455;\n",
              "      --disabled-fill-color: #666;\n",
              "  }\n",
              "\n",
              "  .colab-df-quickchart {\n",
              "    background-color: var(--bg-color);\n",
              "    border: none;\n",
              "    border-radius: 50%;\n",
              "    cursor: pointer;\n",
              "    display: none;\n",
              "    fill: var(--fill-color);\n",
              "    height: 32px;\n",
              "    padding: 0;\n",
              "    width: 32px;\n",
              "  }\n",
              "\n",
              "  .colab-df-quickchart:hover {\n",
              "    background-color: var(--hover-bg-color);\n",
              "    box-shadow: 0 1px 2px rgba(60, 64, 67, 0.3), 0 1px 3px 1px rgba(60, 64, 67, 0.15);\n",
              "    fill: var(--button-hover-fill-color);\n",
              "  }\n",
              "\n",
              "  .colab-df-quickchart-complete:disabled,\n",
              "  .colab-df-quickchart-complete:disabled:hover {\n",
              "    background-color: var(--disabled-bg-color);\n",
              "    fill: var(--disabled-fill-color);\n",
              "    box-shadow: none;\n",
              "  }\n",
              "\n",
              "  .colab-df-spinner {\n",
              "    border: 2px solid var(--fill-color);\n",
              "    border-color: transparent;\n",
              "    border-bottom-color: var(--fill-color);\n",
              "    animation:\n",
              "      spin 1s steps(1) infinite;\n",
              "  }\n",
              "\n",
              "  @keyframes spin {\n",
              "    0% {\n",
              "      border-color: transparent;\n",
              "      border-bottom-color: var(--fill-color);\n",
              "      border-left-color: var(--fill-color);\n",
              "    }\n",
              "    20% {\n",
              "      border-color: transparent;\n",
              "      border-left-color: var(--fill-color);\n",
              "      border-top-color: var(--fill-color);\n",
              "    }\n",
              "    30% {\n",
              "      border-color: transparent;\n",
              "      border-left-color: var(--fill-color);\n",
              "      border-top-color: var(--fill-color);\n",
              "      border-right-color: var(--fill-color);\n",
              "    }\n",
              "    40% {\n",
              "      border-color: transparent;\n",
              "      border-right-color: var(--fill-color);\n",
              "      border-top-color: var(--fill-color);\n",
              "    }\n",
              "    60% {\n",
              "      border-color: transparent;\n",
              "      border-right-color: var(--fill-color);\n",
              "    }\n",
              "    80% {\n",
              "      border-color: transparent;\n",
              "      border-right-color: var(--fill-color);\n",
              "      border-bottom-color: var(--fill-color);\n",
              "    }\n",
              "    90% {\n",
              "      border-color: transparent;\n",
              "      border-bottom-color: var(--fill-color);\n",
              "    }\n",
              "  }\n",
              "</style>\n",
              "\n",
              "  <script>\n",
              "    async function quickchart(key) {\n",
              "      const quickchartButtonEl =\n",
              "        document.querySelector('#' + key + ' button');\n",
              "      quickchartButtonEl.disabled = true;  // To prevent multiple clicks.\n",
              "      quickchartButtonEl.classList.add('colab-df-spinner');\n",
              "      try {\n",
              "        const charts = await google.colab.kernel.invokeFunction(\n",
              "            'suggestCharts', [key], {});\n",
              "      } catch (error) {\n",
              "        console.error('Error during call to suggestCharts:', error);\n",
              "      }\n",
              "      quickchartButtonEl.classList.remove('colab-df-spinner');\n",
              "      quickchartButtonEl.classList.add('colab-df-quickchart-complete');\n",
              "    }\n",
              "    (() => {\n",
              "      let quickchartButtonEl =\n",
              "        document.querySelector('#df-98b4632c-974b-424a-acb4-871968e23abe button');\n",
              "      quickchartButtonEl.style.display =\n",
              "        google.colab.kernel.accessAllowed ? 'block' : 'none';\n",
              "    })();\n",
              "  </script>\n",
              "</div>\n",
              "\n",
              "    </div>\n",
              "  </div>\n"
            ],
            "application/vnd.google.colaboratory.intrinsic+json": {
              "type": "dataframe"
            }
          },
          "metadata": {},
          "execution_count": 302
        }
      ]
    },
    {
      "cell_type": "markdown",
      "source": [
        "* Se observan datos cualitativos y cuantitativos todas las variables de conn_state_* son cualitativas ya que los valores *0* y *1* solo indican el uso o activacion de esa conexion en el dispositivo IoT, asi como las variables de servicios, y protocolos."
      ],
      "metadata": {
        "id": "ZQqVkwiTCbPD"
      }
    },
    {
      "cell_type": "code",
      "source": [
        "df.shape"
      ],
      "metadata": {
        "colab": {
          "base_uri": "https://localhost:8080/"
        },
        "id": "_U0KyNQMC6Uj",
        "outputId": "d134d606-207f-4375-9c7a-620243009552"
      },
      "execution_count": 303,
      "outputs": [
        {
          "output_type": "execute_result",
          "data": {
            "text/plain": [
              "(40725, 37)"
            ]
          },
          "metadata": {},
          "execution_count": 303
        }
      ]
    },
    {
      "cell_type": "markdown",
      "source": [
        "* Con la ayuda del metodo *shape* se observa la dimensionalidad del dataset con **40725** filas y **37** columnas distribuidas de la siguiente manera:"
      ],
      "metadata": {
        "id": "l6hQ0Ze1C3Xn"
      }
    },
    {
      "cell_type": "code",
      "source": [
        "df.columns"
      ],
      "metadata": {
        "colab": {
          "base_uri": "https://localhost:8080/"
        },
        "id": "Yvk5w67XXfou",
        "outputId": "7fb1cf87-bcc0-4f2c-862c-f2175623a4c0"
      },
      "execution_count": 304,
      "outputs": [
        {
          "output_type": "execute_result",
          "data": {
            "text/plain": [
              "Index(['Unnamed: 0', 'duration', 'orig_bytes', 'resp_bytes', 'local_orig',\n",
              "       'local_resp', 'missed_bytes', 'orig_pkts', 'orig_ip_bytes', 'resp_pkts',\n",
              "       'resp_ip_bytes', 'tunnel_parents', 'label', 'multi-label', 'proto_icmp',\n",
              "       'proto_tcp', 'proto_udp', 'service_-', 'service_dhcp', 'service_dns',\n",
              "       'service_http', 'service_irc', 'service_ssh', 'service_ssl',\n",
              "       'conn_state_OTH', 'conn_state_REJ', 'conn_state_RSTO',\n",
              "       'conn_state_RSTOS0', 'conn_state_RSTR', 'conn_state_RSTRH',\n",
              "       'conn_state_S0', 'conn_state_S1', 'conn_state_S2', 'conn_state_S3',\n",
              "       'conn_state_SF', 'conn_state_SH', 'conn_state_SHR'],\n",
              "      dtype='object')"
            ]
          },
          "metadata": {},
          "execution_count": 304
        }
      ]
    },
    {
      "cell_type": "markdown",
      "source": [
        "# **Identificación de datos nulos**"
      ],
      "metadata": {
        "id": "ymBOJM4KBa0Z"
      }
    },
    {
      "cell_type": "code",
      "source": [
        "df.info()"
      ],
      "metadata": {
        "colab": {
          "base_uri": "https://localhost:8080/"
        },
        "id": "Bd9e3jPBXoce",
        "outputId": "416c65c4-7a21-4e53-8259-fbcddfbf3d39"
      },
      "execution_count": 305,
      "outputs": [
        {
          "output_type": "stream",
          "name": "stdout",
          "text": [
            "<class 'pandas.core.frame.DataFrame'>\n",
            "RangeIndex: 40725 entries, 0 to 40724\n",
            "Data columns (total 37 columns):\n",
            " #   Column             Non-Null Count  Dtype  \n",
            "---  ------             --------------  -----  \n",
            " 0   Unnamed: 0         40725 non-null  int64  \n",
            " 1   duration           40725 non-null  float64\n",
            " 2   orig_bytes         40725 non-null  int64  \n",
            " 3   resp_bytes         40725 non-null  int64  \n",
            " 4   local_orig         40725 non-null  object \n",
            " 5   local_resp         40725 non-null  object \n",
            " 6   missed_bytes       40725 non-null  float64\n",
            " 7   orig_pkts          40725 non-null  float64\n",
            " 8   orig_ip_bytes      40725 non-null  float64\n",
            " 9   resp_pkts          40725 non-null  float64\n",
            " 10  resp_ip_bytes      40725 non-null  float64\n",
            " 11  tunnel_parents     40725 non-null  int64  \n",
            " 12  label              40725 non-null  int64  \n",
            " 13  multi-label        40725 non-null  object \n",
            " 14  proto_icmp         40725 non-null  int64  \n",
            " 15  proto_tcp          40725 non-null  int64  \n",
            " 16  proto_udp          40725 non-null  int64  \n",
            " 17  service_-          40725 non-null  int64  \n",
            " 18  service_dhcp       40725 non-null  int64  \n",
            " 19  service_dns        40725 non-null  int64  \n",
            " 20  service_http       40725 non-null  int64  \n",
            " 21  service_irc        40725 non-null  int64  \n",
            " 22  service_ssh        40725 non-null  int64  \n",
            " 23  service_ssl        40725 non-null  int64  \n",
            " 24  conn_state_OTH     40725 non-null  int64  \n",
            " 25  conn_state_REJ     40725 non-null  int64  \n",
            " 26  conn_state_RSTO    40725 non-null  int64  \n",
            " 27  conn_state_RSTOS0  40725 non-null  int64  \n",
            " 28  conn_state_RSTR    40725 non-null  int64  \n",
            " 29  conn_state_RSTRH   40725 non-null  int64  \n",
            " 30  conn_state_S0      40725 non-null  int64  \n",
            " 31  conn_state_S1      40725 non-null  int64  \n",
            " 32  conn_state_S2      40725 non-null  int64  \n",
            " 33  conn_state_S3      40725 non-null  int64  \n",
            " 34  conn_state_SF      40725 non-null  int64  \n",
            " 35  conn_state_SH      40725 non-null  int64  \n",
            " 36  conn_state_SHR     40725 non-null  int64  \n",
            "dtypes: float64(6), int64(28), object(3)\n",
            "memory usage: 11.5+ MB\n"
          ]
        }
      ]
    },
    {
      "cell_type": "code",
      "source": [
        "contar_datos_nulos = df.isnull().sum()\n",
        "contar_datos_nulos"
      ],
      "metadata": {
        "colab": {
          "base_uri": "https://localhost:8080/"
        },
        "id": "myzdiplxJi0q",
        "outputId": "843d5fc8-df0b-43ce-bb51-5962aecd9741"
      },
      "execution_count": 306,
      "outputs": [
        {
          "output_type": "execute_result",
          "data": {
            "text/plain": [
              "Unnamed: 0           0\n",
              "duration             0\n",
              "orig_bytes           0\n",
              "resp_bytes           0\n",
              "local_orig           0\n",
              "local_resp           0\n",
              "missed_bytes         0\n",
              "orig_pkts            0\n",
              "orig_ip_bytes        0\n",
              "resp_pkts            0\n",
              "resp_ip_bytes        0\n",
              "tunnel_parents       0\n",
              "label                0\n",
              "multi-label          0\n",
              "proto_icmp           0\n",
              "proto_tcp            0\n",
              "proto_udp            0\n",
              "service_-            0\n",
              "service_dhcp         0\n",
              "service_dns          0\n",
              "service_http         0\n",
              "service_irc          0\n",
              "service_ssh          0\n",
              "service_ssl          0\n",
              "conn_state_OTH       0\n",
              "conn_state_REJ       0\n",
              "conn_state_RSTO      0\n",
              "conn_state_RSTOS0    0\n",
              "conn_state_RSTR      0\n",
              "conn_state_RSTRH     0\n",
              "conn_state_S0        0\n",
              "conn_state_S1        0\n",
              "conn_state_S2        0\n",
              "conn_state_S3        0\n",
              "conn_state_SF        0\n",
              "conn_state_SH        0\n",
              "conn_state_SHR       0\n",
              "dtype: int64"
            ]
          },
          "metadata": {},
          "execution_count": 306
        }
      ]
    },
    {
      "cell_type": "markdown",
      "source": [
        "* Se observa que el dataset no contiene datos nulos"
      ],
      "metadata": {
        "id": "oqrFbNCtJlgu"
      }
    },
    {
      "cell_type": "markdown",
      "source": [
        "# **Identificacion y Seleccion de Variables**"
      ],
      "metadata": {
        "id": "Ro0CdrAXCQxG"
      }
    },
    {
      "cell_type": "code",
      "source": [
        "# Se procede a analizar a fondo las columnas para identificar realmente el tipo\n",
        "# de variables que contienen, determinando cuales son los valores unicos de cada\n",
        "# columna podremos hacernos una idea de que tipo de variable contiene\n",
        "\n",
        "unique_values = {col: df[col].unique() for col in df.columns}\n",
        "for col, values in unique_values.items():\n",
        "  print(f\"Valores unicos en la columna {col} : {values}\")"
      ],
      "metadata": {
        "colab": {
          "base_uri": "https://localhost:8080/"
        },
        "collapsed": true,
        "id": "WASJ3-sg_Pl8",
        "outputId": "07002501-28c6-4f4c-ab18-8711fcc4d3ae"
      },
      "execution_count": 307,
      "outputs": [
        {
          "output_type": "stream",
          "name": "stdout",
          "text": [
            "Valores unicos en la columna Unnamed: 0 : [    0     1     2 ... 40722 40723 40724]\n",
            "Valores unicos en la columna duration : [  1.978591   2.182247   1.67555  ... 104.514531 233.356672   0.288586]\n",
            "Valores unicos en la columna orig_bytes : [ 149  152    0  148  147   96  120   16   27   56  136  240  104  415\n",
            "   22  992  280  576   24   19  421  320   12 1246   15   88   25  360\n",
            "   31  900  112 1237  424   80  272    1    4   21 2364  160   13   28\n",
            "   29   30   23  480]\n",
            "Valores unicos en la columna resp_bytes : [119442  83118  88797 117700      0  75854  88857  74766  89651 103261\n",
            " 102326     96    856     81    118     61     72     39  25840    576\n",
            "     37     36     38    114     83     56    690     25    438    302\n",
            "    513     86    228     91     62    590    240     94    100    303\n",
            "     87     27    496     74    166    101    154     45    593    109\n",
            "     33    610     54     92     47     30     34    119     97     79\n",
            "   1884     15     77     32    151    135    171     95    133    116]\n",
            "Valores unicos en la columna local_orig : ['-']\n",
            "Valores unicos en la columna local_resp : ['-']\n",
            "Valores unicos en la columna missed_bytes : [0.]\n",
            "Valores unicos en la columna orig_pkts : [1.740e+02 1.720e+02 1.240e+02 1.360e+02 1.700e+02 6.000e+00 4.000e+00\n",
            " 1.120e+02 1.300e+02 1.100e+02 1.320e+02 1.440e+02 1.500e+02 2.000e+00\n",
            " 4.800e+01 5.200e+01 1.400e+01 1.000e+01 3.000e+01 6.000e+01 4.800e+02\n",
            " 8.000e+00 1.200e+01 5.400e+01 5.000e+01 4.000e+01 1.600e+01 3.400e+01\n",
            " 7.000e+01 3.600e+01 1.800e+01 6.600e+01 4.600e+01 2.200e+01 4.400e+01\n",
            " 2.000e+01 4.200e+01 2.400e+01 6.400e+01 3.800e+01 5.800e+01 5.600e+01\n",
            " 2.800e+01 2.326e+03 3.200e+01 6.200e+01 5.000e+00 1.000e+00]\n",
            "Valores unicos en la columna orig_ip_bytes : [1.16980e+04 1.15700e+04 8.12000e+03 8.57800e+03 1.16020e+04 3.60000e+02\n",
            " 2.40000e+02 6.60200e+03 7.24200e+03 6.03200e+03 7.43400e+03 7.91800e+03\n",
            " 8.28000e+03 1.20000e+02 1.52000e+02 2.00000e+02 1.76000e+02 2.07200e+03\n",
            " 2.56600e+03 1.12000e+02 2.77400e+03 1.92000e+02 7.76000e+02 8.00000e+01\n",
            " 3.52000e+02 1.60000e+02 4.40000e+02 2.15200e+03 2.48800e+03 2.02000e+02\n",
            " 2.69440e+04 3.20000e+02 3.36000e+02 6.40000e+02 9.12000e+02 4.32000e+02\n",
            " 2.24800e+03 2.12000e+03 4.00000e+02 5.52000e+02 2.97200e+03 8.32000e+02\n",
            " 2.89800e+03 1.80800e+03 6.16000e+03 1.93800e+03 2.63600e+03 8.00000e+02\n",
            " 8.80000e+02 1.48000e+03 1.44000e+02 2.72800e+03 7.60000e+02 2.59200e+03\n",
            " 9.20000e+02 2.35400e+03 2.56400e+03 5.28000e+02 8.40000e+02 2.70000e+03\n",
            " 2.36200e+03 2.48200e+03 2.36400e+03 2.68200e+03 1.23600e+03 6.56000e+02\n",
            " 1.75000e+03 2.24000e+02 2.47200e+03 2.25000e+03 2.01400e+03 2.35200e+03\n",
            " 2.70600e+03 2.58800e+03 2.68400e+03 2.45800e+03 2.08800e+03 1.28000e+03\n",
            " 9.68000e+02 1.04000e+02 2.16400e+03 2.95000e+03 5.97400e+03 2.25600e+03\n",
            " 6.80000e+02 7.20000e+02 1.45600e+03 3.18000e+03 2.46000e+03 1.43200e+03\n",
            " 1.11200e+03 1.91600e+03 1.26400e+03 2.60400e+03 2.23800e+03 2.80000e+03\n",
            " 2.11000e+03 4.80000e+02 1.36000e+02 2.80000e+02 3.84000e+02 1.00000e+03\n",
            " 1.26000e+02 2.40000e+03 1.50600e+03 5.62000e+02 2.85200e+03 2.46600e+03\n",
            " 5.36000e+02 2.40800e+03 1.08000e+03 7.44000e+02 5.20000e+02 2.08400e+03\n",
            " 2.36800e+03 2.37000e+03 2.80800e+03 2.12600e+03 1.26522e+05 2.16000e+02\n",
            " 5.38000e+02 6.72000e+02 2.53600e+03 2.31800e+03 2.49800e+03 2.42600e+03\n",
            " 2.16200e+03 2.07600e+03 1.68000e+02 2.70200e+03 2.28200e+03 2.60000e+03\n",
            " 2.79400e+03 2.70400e+03 2.46400e+03 3.07600e+03 3.21800e+03 3.29400e+03\n",
            " 2.77000e+03 2.80200e+03 2.86200e+03 2.63400e+03 2.47000e+03 7.04000e+02\n",
            " 2.00000e+03 3.00000e+02 1.92000e+03 2.02400e+03 1.62000e+02 2.69000e+03\n",
            " 2.69800e+03 2.61800e+03 6.00000e+01 5.68000e+02]\n",
            "Valores unicos en la columna resp_pkts : [1.720e+02 1.700e+02 1.220e+02 1.340e+02 0.000e+00 1.120e+02 1.290e+02\n",
            " 1.090e+02 1.320e+02 1.500e+02 1.480e+02 2.000e+00 4.000e+00 3.400e+01\n",
            " 4.200e+01 4.600e+01 6.000e+00 1.200e+01 1.600e+01 4.580e+02 1.000e+01\n",
            " 5.200e+01 4.000e+01 2.600e+01 3.200e+01 5.000e+01 3.800e+01 3.600e+01\n",
            " 4.800e+01 2.200e+01 3.000e+01 8.000e+00 1.400e+01 2.400e+01 2.800e+01\n",
            " 5.400e+01 2.362e+03 1.800e+01 4.400e+01]\n",
            "Valores unicos en la columna resp_ip_bytes : [2.47844e+05 2.47740e+05 1.72596e+05 1.93266e+05 2.44256e+05 0.00000e+00\n",
            " 1.57548e+05 1.84438e+05 1.55216e+05 1.89078e+05 2.14338e+05 2.12364e+05\n",
            " 8.00000e+01 1.52000e+02 1.68000e+02 3.08000e+03 2.36200e+03 2.64400e+03\n",
            " 1.04000e+02 3.28000e+02 6.10000e+02 7.92000e+02 1.92600e+03 7.54960e+04\n",
            " 1.60000e+02 5.68000e+02 9.12000e+02 2.17000e+03 1.68000e+03 2.48000e+02\n",
            " 3.36000e+02 8.80000e+01 1.44400e+03 7.64000e+02 2.41400e+03 1.79200e+03\n",
            " 4.06800e+03 3.04000e+02 1.20000e+02 1.44000e+02 1.46600e+03 2.94000e+03\n",
            " 1.14000e+03 1.44000e+03 3.03800e+03 2.06000e+03 2.16400e+03 2.21200e+03\n",
            " 1.76000e+02 2.39200e+03 2.11800e+03 2.07000e+03 2.34800e+03 2.62800e+03\n",
            " 2.52000e+03 2.47200e+03 2.36800e+03 1.86600e+03 2.22800e+03 2.30400e+03\n",
            " 2.21600e+03 2.05400e+03 5.02000e+02 2.00600e+03 1.47000e+03 2.72000e+03\n",
            " 1.55600e+03 1.33800e+03 1.70200e+03 1.84000e+02 4.02000e+02 2.21800e+03\n",
            " 9.20000e+01 1.31400e+03 6.98000e+02 2.55400e+03 1.74600e+03 1.44600e+03\n",
            " 2.84400e+03 1.39000e+03 1.64200e+03 1.66600e+03 2.66800e+03 1.34800e+03\n",
            " 4.68000e+02 2.58800e+03 1.57400e+03 2.22400e+03 4.08000e+02 2.27000e+03\n",
            " 6.04000e+02 2.24000e+02 1.92400e+03 2.12600e+03 1.40200e+03 2.27800e+03\n",
            " 1.97800e+03 2.16000e+02 1.14200e+03 1.26672e+05 9.60000e+01 5.30000e+02\n",
            " 1.26000e+02 9.58000e+02 2.29800e+03 1.01600e+03 1.99000e+03 1.42200e+03\n",
            " 2.55600e+03 1.58600e+03 2.71400e+03 2.87400e+03 2.14400e+03 1.94200e+03\n",
            " 2.33400e+03 2.28600e+03 2.61800e+03 2.77800e+03 2.66600e+03 2.49000e+03\n",
            " 2.20600e+03 2.03600e+03 2.17800e+03 2.64200e+03 2.11400e+03 1.50600e+03\n",
            " 1.83200e+03 7.20000e+02 2.24000e+03 2.56000e+02]\n",
            "Valores unicos en la columna tunnel_parents : [0]\n",
            "Valores unicos en la columna label : [1 0]\n",
            "Valores unicos en la columna multi-label : ['C&C-HeartBeat-FileDownload' 'PartOfAHorizontalPortScan' 'Attack'\n",
            " 'Benign' 'C&C-HeartBeat-Attack' 'C&C-PartOfAHorizontalPortScan']\n",
            "Valores unicos en la columna proto_icmp : [0 1]\n",
            "Valores unicos en la columna proto_tcp : [1 0]\n",
            "Valores unicos en la columna proto_udp : [0 1]\n",
            "Valores unicos en la columna service_- : [0]\n",
            "Valores unicos en la columna service_dhcp : [0]\n",
            "Valores unicos en la columna service_dns : [0 1]\n",
            "Valores unicos en la columna service_http : [1 0]\n",
            "Valores unicos en la columna service_irc : [0]\n",
            "Valores unicos en la columna service_ssh : [0]\n",
            "Valores unicos en la columna service_ssl : [0]\n",
            "Valores unicos en la columna conn_state_OTH : [0 1]\n",
            "Valores unicos en la columna conn_state_REJ : [0 1]\n",
            "Valores unicos en la columna conn_state_RSTO : [0 1]\n",
            "Valores unicos en la columna conn_state_RSTOS0 : [0 1]\n",
            "Valores unicos en la columna conn_state_RSTR : [0 1]\n",
            "Valores unicos en la columna conn_state_RSTRH : [0]\n",
            "Valores unicos en la columna conn_state_S0 : [0 1]\n",
            "Valores unicos en la columna conn_state_S1 : [0 1]\n",
            "Valores unicos en la columna conn_state_S2 : [0 1]\n",
            "Valores unicos en la columna conn_state_S3 : [0]\n",
            "Valores unicos en la columna conn_state_SF : [1 0]\n",
            "Valores unicos en la columna conn_state_SH : [0 1]\n",
            "Valores unicos en la columna conn_state_SHR : [0]\n"
          ]
        }
      ]
    },
    {
      "cell_type": "markdown",
      "source": [
        "* Con base en lo anterior podemos determinar que las siguientes columnas contienen valores categoricos ya que los numeros *0* y *1* representan el uso o no de dicho protocolo, servicio o conexion\n",
        "  * proto_icmp,\n",
        "proto_tcp,\n",
        "proto_udp,\n",
        "service_-,\n",
        "service_dhcp,\n",
        "service_dns,\n",
        "service_http,\n",
        "service_irc,\n",
        "service_ssh,\n",
        "service_ssl,\n",
        "conn_state_OTH,\n",
        "conn_state_REJ,\n",
        "conn_state_RSTO,\n",
        "conn_state_RSTOS0,\n",
        "conn_state_RSTR,\n",
        "conn_state_RSTRH,\n",
        "conn_state_S0,\n",
        "conn_state_S1,\n",
        "conn_state_S2,\n",
        "conn_state_S3,\n",
        "conn_state_SF,\n",
        "conn_state_SH,\n",
        "conn_state_SHR,\n",
        "label,\n",
        "tunnel_parents\n",
        "\n",
        "* Mientras que las siguentes columnas contienen valores numericos\n",
        "  * duration,\n",
        "orig_bytes,\n",
        "resp_bytes,\n",
        "local_orig,\n",
        "local_resp,\n",
        "missed_bytes,\n",
        "orig_pkts,\n",
        "orig_ip_bytes,\n",
        "resp_pkts,\n",
        "resp_ip_bytes\n",
        "\n",
        "* De lo anterior tambien se puede apreciar que las columnas local_orig, local_resp no aportan ningun tipo de informacion relevante, por lo que se procede a eliminarlas"
      ],
      "metadata": {
        "id": "pr7TL19qFvEM"
      }
    },
    {
      "cell_type": "code",
      "source": [
        "df = df.drop(columns=['local_orig', 'local_resp'])\n",
        "df.head()"
      ],
      "metadata": {
        "colab": {
          "base_uri": "https://localhost:8080/",
          "height": 0
        },
        "id": "v1l6KCpb_fOB",
        "outputId": "f5320956-5dec-4f8e-db3d-84eeea599b31"
      },
      "execution_count": 308,
      "outputs": [
        {
          "output_type": "execute_result",
          "data": {
            "text/plain": [
              "   Unnamed: 0  duration  orig_bytes  resp_bytes  missed_bytes  orig_pkts  \\\n",
              "0           0  1.978591         149      119442           0.0      174.0   \n",
              "1           1  2.182247         149      119442           0.0      172.0   \n",
              "2           2  1.675550         152       83118           0.0      124.0   \n",
              "3           3  1.798966         149       88797           0.0      136.0   \n",
              "4           4  1.938142         149      117700           0.0      170.0   \n",
              "\n",
              "   orig_ip_bytes  resp_pkts  resp_ip_bytes  tunnel_parents  ...  \\\n",
              "0        11698.0      172.0       247844.0               0  ...   \n",
              "1        11570.0      170.0       247740.0               0  ...   \n",
              "2         8120.0      122.0       172596.0               0  ...   \n",
              "3         8578.0      134.0       193266.0               0  ...   \n",
              "4        11602.0      170.0       244256.0               0  ...   \n",
              "\n",
              "   conn_state_RSTOS0 conn_state_RSTR  conn_state_RSTRH  conn_state_S0  \\\n",
              "0                  0               0                 0              0   \n",
              "1                  0               0                 0              0   \n",
              "2                  0               0                 0              0   \n",
              "3                  0               0                 0              0   \n",
              "4                  0               0                 0              0   \n",
              "\n",
              "   conn_state_S1  conn_state_S2  conn_state_S3  conn_state_SF  conn_state_SH  \\\n",
              "0              0              0              0              1              0   \n",
              "1              0              0              0              1              0   \n",
              "2              0              0              0              1              0   \n",
              "3              0              0              0              1              0   \n",
              "4              0              0              0              1              0   \n",
              "\n",
              "   conn_state_SHR  \n",
              "0               0  \n",
              "1               0  \n",
              "2               0  \n",
              "3               0  \n",
              "4               0  \n",
              "\n",
              "[5 rows x 35 columns]"
            ],
            "text/html": [
              "\n",
              "  <div id=\"df-d376e549-3137-40c1-9def-28fbe669da77\" class=\"colab-df-container\">\n",
              "    <div>\n",
              "<style scoped>\n",
              "    .dataframe tbody tr th:only-of-type {\n",
              "        vertical-align: middle;\n",
              "    }\n",
              "\n",
              "    .dataframe tbody tr th {\n",
              "        vertical-align: top;\n",
              "    }\n",
              "\n",
              "    .dataframe thead th {\n",
              "        text-align: right;\n",
              "    }\n",
              "</style>\n",
              "<table border=\"1\" class=\"dataframe\">\n",
              "  <thead>\n",
              "    <tr style=\"text-align: right;\">\n",
              "      <th></th>\n",
              "      <th>Unnamed: 0</th>\n",
              "      <th>duration</th>\n",
              "      <th>orig_bytes</th>\n",
              "      <th>resp_bytes</th>\n",
              "      <th>missed_bytes</th>\n",
              "      <th>orig_pkts</th>\n",
              "      <th>orig_ip_bytes</th>\n",
              "      <th>resp_pkts</th>\n",
              "      <th>resp_ip_bytes</th>\n",
              "      <th>tunnel_parents</th>\n",
              "      <th>...</th>\n",
              "      <th>conn_state_RSTOS0</th>\n",
              "      <th>conn_state_RSTR</th>\n",
              "      <th>conn_state_RSTRH</th>\n",
              "      <th>conn_state_S0</th>\n",
              "      <th>conn_state_S1</th>\n",
              "      <th>conn_state_S2</th>\n",
              "      <th>conn_state_S3</th>\n",
              "      <th>conn_state_SF</th>\n",
              "      <th>conn_state_SH</th>\n",
              "      <th>conn_state_SHR</th>\n",
              "    </tr>\n",
              "  </thead>\n",
              "  <tbody>\n",
              "    <tr>\n",
              "      <th>0</th>\n",
              "      <td>0</td>\n",
              "      <td>1.978591</td>\n",
              "      <td>149</td>\n",
              "      <td>119442</td>\n",
              "      <td>0.0</td>\n",
              "      <td>174.0</td>\n",
              "      <td>11698.0</td>\n",
              "      <td>172.0</td>\n",
              "      <td>247844.0</td>\n",
              "      <td>0</td>\n",
              "      <td>...</td>\n",
              "      <td>0</td>\n",
              "      <td>0</td>\n",
              "      <td>0</td>\n",
              "      <td>0</td>\n",
              "      <td>0</td>\n",
              "      <td>0</td>\n",
              "      <td>0</td>\n",
              "      <td>1</td>\n",
              "      <td>0</td>\n",
              "      <td>0</td>\n",
              "    </tr>\n",
              "    <tr>\n",
              "      <th>1</th>\n",
              "      <td>1</td>\n",
              "      <td>2.182247</td>\n",
              "      <td>149</td>\n",
              "      <td>119442</td>\n",
              "      <td>0.0</td>\n",
              "      <td>172.0</td>\n",
              "      <td>11570.0</td>\n",
              "      <td>170.0</td>\n",
              "      <td>247740.0</td>\n",
              "      <td>0</td>\n",
              "      <td>...</td>\n",
              "      <td>0</td>\n",
              "      <td>0</td>\n",
              "      <td>0</td>\n",
              "      <td>0</td>\n",
              "      <td>0</td>\n",
              "      <td>0</td>\n",
              "      <td>0</td>\n",
              "      <td>1</td>\n",
              "      <td>0</td>\n",
              "      <td>0</td>\n",
              "    </tr>\n",
              "    <tr>\n",
              "      <th>2</th>\n",
              "      <td>2</td>\n",
              "      <td>1.675550</td>\n",
              "      <td>152</td>\n",
              "      <td>83118</td>\n",
              "      <td>0.0</td>\n",
              "      <td>124.0</td>\n",
              "      <td>8120.0</td>\n",
              "      <td>122.0</td>\n",
              "      <td>172596.0</td>\n",
              "      <td>0</td>\n",
              "      <td>...</td>\n",
              "      <td>0</td>\n",
              "      <td>0</td>\n",
              "      <td>0</td>\n",
              "      <td>0</td>\n",
              "      <td>0</td>\n",
              "      <td>0</td>\n",
              "      <td>0</td>\n",
              "      <td>1</td>\n",
              "      <td>0</td>\n",
              "      <td>0</td>\n",
              "    </tr>\n",
              "    <tr>\n",
              "      <th>3</th>\n",
              "      <td>3</td>\n",
              "      <td>1.798966</td>\n",
              "      <td>149</td>\n",
              "      <td>88797</td>\n",
              "      <td>0.0</td>\n",
              "      <td>136.0</td>\n",
              "      <td>8578.0</td>\n",
              "      <td>134.0</td>\n",
              "      <td>193266.0</td>\n",
              "      <td>0</td>\n",
              "      <td>...</td>\n",
              "      <td>0</td>\n",
              "      <td>0</td>\n",
              "      <td>0</td>\n",
              "      <td>0</td>\n",
              "      <td>0</td>\n",
              "      <td>0</td>\n",
              "      <td>0</td>\n",
              "      <td>1</td>\n",
              "      <td>0</td>\n",
              "      <td>0</td>\n",
              "    </tr>\n",
              "    <tr>\n",
              "      <th>4</th>\n",
              "      <td>4</td>\n",
              "      <td>1.938142</td>\n",
              "      <td>149</td>\n",
              "      <td>117700</td>\n",
              "      <td>0.0</td>\n",
              "      <td>170.0</td>\n",
              "      <td>11602.0</td>\n",
              "      <td>170.0</td>\n",
              "      <td>244256.0</td>\n",
              "      <td>0</td>\n",
              "      <td>...</td>\n",
              "      <td>0</td>\n",
              "      <td>0</td>\n",
              "      <td>0</td>\n",
              "      <td>0</td>\n",
              "      <td>0</td>\n",
              "      <td>0</td>\n",
              "      <td>0</td>\n",
              "      <td>1</td>\n",
              "      <td>0</td>\n",
              "      <td>0</td>\n",
              "    </tr>\n",
              "  </tbody>\n",
              "</table>\n",
              "<p>5 rows × 35 columns</p>\n",
              "</div>\n",
              "    <div class=\"colab-df-buttons\">\n",
              "\n",
              "  <div class=\"colab-df-container\">\n",
              "    <button class=\"colab-df-convert\" onclick=\"convertToInteractive('df-d376e549-3137-40c1-9def-28fbe669da77')\"\n",
              "            title=\"Convert this dataframe to an interactive table.\"\n",
              "            style=\"display:none;\">\n",
              "\n",
              "  <svg xmlns=\"http://www.w3.org/2000/svg\" height=\"24px\" viewBox=\"0 -960 960 960\">\n",
              "    <path d=\"M120-120v-720h720v720H120Zm60-500h600v-160H180v160Zm220 220h160v-160H400v160Zm0 220h160v-160H400v160ZM180-400h160v-160H180v160Zm440 0h160v-160H620v160ZM180-180h160v-160H180v160Zm440 0h160v-160H620v160Z\"/>\n",
              "  </svg>\n",
              "    </button>\n",
              "\n",
              "  <style>\n",
              "    .colab-df-container {\n",
              "      display:flex;\n",
              "      gap: 12px;\n",
              "    }\n",
              "\n",
              "    .colab-df-convert {\n",
              "      background-color: #E8F0FE;\n",
              "      border: none;\n",
              "      border-radius: 50%;\n",
              "      cursor: pointer;\n",
              "      display: none;\n",
              "      fill: #1967D2;\n",
              "      height: 32px;\n",
              "      padding: 0 0 0 0;\n",
              "      width: 32px;\n",
              "    }\n",
              "\n",
              "    .colab-df-convert:hover {\n",
              "      background-color: #E2EBFA;\n",
              "      box-shadow: 0px 1px 2px rgba(60, 64, 67, 0.3), 0px 1px 3px 1px rgba(60, 64, 67, 0.15);\n",
              "      fill: #174EA6;\n",
              "    }\n",
              "\n",
              "    .colab-df-buttons div {\n",
              "      margin-bottom: 4px;\n",
              "    }\n",
              "\n",
              "    [theme=dark] .colab-df-convert {\n",
              "      background-color: #3B4455;\n",
              "      fill: #D2E3FC;\n",
              "    }\n",
              "\n",
              "    [theme=dark] .colab-df-convert:hover {\n",
              "      background-color: #434B5C;\n",
              "      box-shadow: 0px 1px 3px 1px rgba(0, 0, 0, 0.15);\n",
              "      filter: drop-shadow(0px 1px 2px rgba(0, 0, 0, 0.3));\n",
              "      fill: #FFFFFF;\n",
              "    }\n",
              "  </style>\n",
              "\n",
              "    <script>\n",
              "      const buttonEl =\n",
              "        document.querySelector('#df-d376e549-3137-40c1-9def-28fbe669da77 button.colab-df-convert');\n",
              "      buttonEl.style.display =\n",
              "        google.colab.kernel.accessAllowed ? 'block' : 'none';\n",
              "\n",
              "      async function convertToInteractive(key) {\n",
              "        const element = document.querySelector('#df-d376e549-3137-40c1-9def-28fbe669da77');\n",
              "        const dataTable =\n",
              "          await google.colab.kernel.invokeFunction('convertToInteractive',\n",
              "                                                    [key], {});\n",
              "        if (!dataTable) return;\n",
              "\n",
              "        const docLinkHtml = 'Like what you see? Visit the ' +\n",
              "          '<a target=\"_blank\" href=https://colab.research.google.com/notebooks/data_table.ipynb>data table notebook</a>'\n",
              "          + ' to learn more about interactive tables.';\n",
              "        element.innerHTML = '';\n",
              "        dataTable['output_type'] = 'display_data';\n",
              "        await google.colab.output.renderOutput(dataTable, element);\n",
              "        const docLink = document.createElement('div');\n",
              "        docLink.innerHTML = docLinkHtml;\n",
              "        element.appendChild(docLink);\n",
              "      }\n",
              "    </script>\n",
              "  </div>\n",
              "\n",
              "\n",
              "<div id=\"df-35b0e4fa-082f-47b8-869c-7d2ce18a8a07\">\n",
              "  <button class=\"colab-df-quickchart\" onclick=\"quickchart('df-35b0e4fa-082f-47b8-869c-7d2ce18a8a07')\"\n",
              "            title=\"Suggest charts\"\n",
              "            style=\"display:none;\">\n",
              "\n",
              "<svg xmlns=\"http://www.w3.org/2000/svg\" height=\"24px\"viewBox=\"0 0 24 24\"\n",
              "     width=\"24px\">\n",
              "    <g>\n",
              "        <path d=\"M19 3H5c-1.1 0-2 .9-2 2v14c0 1.1.9 2 2 2h14c1.1 0 2-.9 2-2V5c0-1.1-.9-2-2-2zM9 17H7v-7h2v7zm4 0h-2V7h2v10zm4 0h-2v-4h2v4z\"/>\n",
              "    </g>\n",
              "</svg>\n",
              "  </button>\n",
              "\n",
              "<style>\n",
              "  .colab-df-quickchart {\n",
              "      --bg-color: #E8F0FE;\n",
              "      --fill-color: #1967D2;\n",
              "      --hover-bg-color: #E2EBFA;\n",
              "      --hover-fill-color: #174EA6;\n",
              "      --disabled-fill-color: #AAA;\n",
              "      --disabled-bg-color: #DDD;\n",
              "  }\n",
              "\n",
              "  [theme=dark] .colab-df-quickchart {\n",
              "      --bg-color: #3B4455;\n",
              "      --fill-color: #D2E3FC;\n",
              "      --hover-bg-color: #434B5C;\n",
              "      --hover-fill-color: #FFFFFF;\n",
              "      --disabled-bg-color: #3B4455;\n",
              "      --disabled-fill-color: #666;\n",
              "  }\n",
              "\n",
              "  .colab-df-quickchart {\n",
              "    background-color: var(--bg-color);\n",
              "    border: none;\n",
              "    border-radius: 50%;\n",
              "    cursor: pointer;\n",
              "    display: none;\n",
              "    fill: var(--fill-color);\n",
              "    height: 32px;\n",
              "    padding: 0;\n",
              "    width: 32px;\n",
              "  }\n",
              "\n",
              "  .colab-df-quickchart:hover {\n",
              "    background-color: var(--hover-bg-color);\n",
              "    box-shadow: 0 1px 2px rgba(60, 64, 67, 0.3), 0 1px 3px 1px rgba(60, 64, 67, 0.15);\n",
              "    fill: var(--button-hover-fill-color);\n",
              "  }\n",
              "\n",
              "  .colab-df-quickchart-complete:disabled,\n",
              "  .colab-df-quickchart-complete:disabled:hover {\n",
              "    background-color: var(--disabled-bg-color);\n",
              "    fill: var(--disabled-fill-color);\n",
              "    box-shadow: none;\n",
              "  }\n",
              "\n",
              "  .colab-df-spinner {\n",
              "    border: 2px solid var(--fill-color);\n",
              "    border-color: transparent;\n",
              "    border-bottom-color: var(--fill-color);\n",
              "    animation:\n",
              "      spin 1s steps(1) infinite;\n",
              "  }\n",
              "\n",
              "  @keyframes spin {\n",
              "    0% {\n",
              "      border-color: transparent;\n",
              "      border-bottom-color: var(--fill-color);\n",
              "      border-left-color: var(--fill-color);\n",
              "    }\n",
              "    20% {\n",
              "      border-color: transparent;\n",
              "      border-left-color: var(--fill-color);\n",
              "      border-top-color: var(--fill-color);\n",
              "    }\n",
              "    30% {\n",
              "      border-color: transparent;\n",
              "      border-left-color: var(--fill-color);\n",
              "      border-top-color: var(--fill-color);\n",
              "      border-right-color: var(--fill-color);\n",
              "    }\n",
              "    40% {\n",
              "      border-color: transparent;\n",
              "      border-right-color: var(--fill-color);\n",
              "      border-top-color: var(--fill-color);\n",
              "    }\n",
              "    60% {\n",
              "      border-color: transparent;\n",
              "      border-right-color: var(--fill-color);\n",
              "    }\n",
              "    80% {\n",
              "      border-color: transparent;\n",
              "      border-right-color: var(--fill-color);\n",
              "      border-bottom-color: var(--fill-color);\n",
              "    }\n",
              "    90% {\n",
              "      border-color: transparent;\n",
              "      border-bottom-color: var(--fill-color);\n",
              "    }\n",
              "  }\n",
              "</style>\n",
              "\n",
              "  <script>\n",
              "    async function quickchart(key) {\n",
              "      const quickchartButtonEl =\n",
              "        document.querySelector('#' + key + ' button');\n",
              "      quickchartButtonEl.disabled = true;  // To prevent multiple clicks.\n",
              "      quickchartButtonEl.classList.add('colab-df-spinner');\n",
              "      try {\n",
              "        const charts = await google.colab.kernel.invokeFunction(\n",
              "            'suggestCharts', [key], {});\n",
              "      } catch (error) {\n",
              "        console.error('Error during call to suggestCharts:', error);\n",
              "      }\n",
              "      quickchartButtonEl.classList.remove('colab-df-spinner');\n",
              "      quickchartButtonEl.classList.add('colab-df-quickchart-complete');\n",
              "    }\n",
              "    (() => {\n",
              "      let quickchartButtonEl =\n",
              "        document.querySelector('#df-35b0e4fa-082f-47b8-869c-7d2ce18a8a07 button');\n",
              "      quickchartButtonEl.style.display =\n",
              "        google.colab.kernel.accessAllowed ? 'block' : 'none';\n",
              "    })();\n",
              "  </script>\n",
              "</div>\n",
              "\n",
              "    </div>\n",
              "  </div>\n"
            ],
            "application/vnd.google.colaboratory.intrinsic+json": {
              "type": "dataframe",
              "variable_name": "df"
            }
          },
          "metadata": {},
          "execution_count": 308
        }
      ]
    },
    {
      "cell_type": "markdown",
      "source": [
        "* Dado que se quiere identificar y medir los niveles de ataque se seleccionan las siguientes variables que se relacionan intimamente cuando ocurre un ataque:\n",
        "    * proto_* (todos los protocolos que intervengan)\n",
        "    * service_* (todos los servicios que intervengan)\n",
        "    * multi_label (tipo de ataque)\n",
        "    * resp_bytes (informacion que enviamos durante un intento de ataque)\n",
        "\n"
      ],
      "metadata": {
        "id": "MB3tN891Cd32"
      }
    },
    {
      "cell_type": "markdown",
      "source": [
        "# **EDA - Análisis exploratorio de los datos**"
      ],
      "metadata": {
        "id": "euzgEHoyKO87"
      }
    },
    {
      "cell_type": "code",
      "source": [
        "# se imprimen las columnas para irnos guiando\n",
        "df.columns"
      ],
      "metadata": {
        "colab": {
          "base_uri": "https://localhost:8080/"
        },
        "id": "osx-YBFqKY-Y",
        "outputId": "f3a28b6c-2657-408e-ace8-30b50d1ef5dc"
      },
      "execution_count": 309,
      "outputs": [
        {
          "output_type": "execute_result",
          "data": {
            "text/plain": [
              "Index(['Unnamed: 0', 'duration', 'orig_bytes', 'resp_bytes', 'missed_bytes',\n",
              "       'orig_pkts', 'orig_ip_bytes', 'resp_pkts', 'resp_ip_bytes',\n",
              "       'tunnel_parents', 'label', 'multi-label', 'proto_icmp', 'proto_tcp',\n",
              "       'proto_udp', 'service_-', 'service_dhcp', 'service_dns', 'service_http',\n",
              "       'service_irc', 'service_ssh', 'service_ssl', 'conn_state_OTH',\n",
              "       'conn_state_REJ', 'conn_state_RSTO', 'conn_state_RSTOS0',\n",
              "       'conn_state_RSTR', 'conn_state_RSTRH', 'conn_state_S0', 'conn_state_S1',\n",
              "       'conn_state_S2', 'conn_state_S3', 'conn_state_SF', 'conn_state_SH',\n",
              "       'conn_state_SHR'],\n",
              "      dtype='object')"
            ]
          },
          "metadata": {},
          "execution_count": 309
        }
      ]
    },
    {
      "cell_type": "markdown",
      "source": [
        "Procedemos a contar el numero de ataques"
      ],
      "metadata": {
        "id": "yv8zVBj7K5xD"
      }
    },
    {
      "cell_type": "code",
      "source": [
        "attack_counter_type = df[\"multi-label\"].value_counts()\n",
        "attack_counter_type"
      ],
      "metadata": {
        "colab": {
          "base_uri": "https://localhost:8080/"
        },
        "id": "xlJVVO51KlC9",
        "outputId": "28d0b794-6308-4ad7-9aee-96285db1b30b"
      },
      "execution_count": 310,
      "outputs": [
        {
          "output_type": "execute_result",
          "data": {
            "text/plain": [
              "multi-label\n",
              "PartOfAHorizontalPortScan        36397\n",
              "Attack                            2720\n",
              "C&C-HeartBeat-Attack               743\n",
              "Benign                             527\n",
              "C&C-PartOfAHorizontalPortScan      327\n",
              "C&C-HeartBeat-FileDownload          11\n",
              "Name: count, dtype: int64"
            ]
          },
          "metadata": {},
          "execution_count": 310
        }
      ]
    },
    {
      "cell_type": "markdown",
      "source": [
        "* La cantidad de ataques maliosos es considerablemente mas grande que las de ataque benignos"
      ],
      "metadata": {
        "id": "C9Y22VcBLggp"
      }
    },
    {
      "cell_type": "markdown",
      "source": [
        "."
      ],
      "metadata": {
        "id": "-WRlkM-OK77A"
      }
    },
    {
      "cell_type": "markdown",
      "source": [
        "."
      ],
      "metadata": {
        "id": "xScCDCKUK7rj"
      }
    },
    {
      "cell_type": "markdown",
      "source": [
        "."
      ],
      "metadata": {
        "id": "IEeNH03-K7CI"
      }
    },
    {
      "cell_type": "markdown",
      "source": [
        "# **Preguntas Hipotesis**"
      ],
      "metadata": {
        "id": "qO7xGZrIDc49"
      }
    },
    {
      "cell_type": "markdown",
      "source": [
        "**1. Cual es la distribucion de ataques de la muestra?**\n",
        "\n",
        "  **Hipotesis**: Se espera que los ataques: sean mas frecuentes cuando se permite un escaneo de servicios"
      ],
      "metadata": {
        "id": "q-Szv9NUcR7b"
      }
    },
    {
      "cell_type": "code",
      "source": [
        "plt.figure(figsize=(20, 6))\n",
        "sns.countplot(data=df, x='multi-label')\n",
        "plt.title('Frecuencia de los diferentes tipos de ataques')\n",
        "plt.xlabel('Tipo de Ataque')\n",
        "plt.ylabel('Frecuencia')\n",
        "plt.xticks(rotation=0)\n",
        "plt.show()"
      ],
      "metadata": {
        "colab": {
          "base_uri": "https://localhost:8080/",
          "height": 0
        },
        "collapsed": true,
        "id": "Jb3TBntxL6JJ",
        "outputId": "4f9e4bd0-97a1-4622-a82a-ba64d7cf0254"
      },
      "execution_count": 311,
      "outputs": [
        {
          "output_type": "display_data",
          "data": {
            "text/plain": [
              "<Figure size 2000x600 with 1 Axes>"
            ],
            "image/png": "[encoded data removed]"
          },
          "metadata": {}
        }
      ]
    },
    {
      "cell_type": "markdown",
      "source": [
        "**Interpretacion 1 :**\n",
        "\n",
        "La grafica nos muestra que el tipo de ataques mas frecuentes es *PartOfHorizontalPortScan* que se refiere a un tipo de ataque en el que ocurre en un contexto de escaneo horizontall, lo que implica que un atacante escanea multiples direcciones IP para un puerto especifico con el objetivo de encontrar vulnerabilidades en el sistema. En contraste con un escaneo vertical de puertos que implica escanear una sola direccion IP para multiples puertos."
      ],
      "metadata": {
        "id": "8x9I4ZcyphGr"
      }
    },
    {
      "cell_type": "markdown",
      "source": [
        "."
      ],
      "metadata": {
        "id": "o0vBEnx2K4cH"
      }
    },
    {
      "cell_type": "markdown",
      "source": [
        "."
      ],
      "metadata": {
        "id": "OPHuBzfaK4Nn"
      }
    },
    {
      "cell_type": "markdown",
      "source": [
        "."
      ],
      "metadata": {
        "id": "Sv2gvC3NK38T"
      }
    },
    {
      "cell_type": "markdown",
      "source": [
        "**2. Existe alguna relacion entre la cantidad de informacion que se filtra durante un ataque y los servicios o protocolos que intervienen en una red de dispositivos IoT?**\n",
        "\n",
        "**Hipotesis**: se espera que haya una relacion directa entre los ataques y los servicios y protocolos mas usados"
      ],
      "metadata": {
        "id": "8pnbQ7XYDgum"
      }
    },
    {
      "cell_type": "code",
      "source": [
        "plt.figure(figsize=(14, 8))\n",
        "df_filtered = df[df['multi-label'].notna()]\n",
        "\n",
        "plt.title('resp_bytes vs diferente tipos de ataques (multi-label)')\n",
        "plt.xlabel('multi-label (Tipos de Ataques)')\n",
        "plt.ylabel('resp_bytes')\n",
        "plt.xticks(rotation=90)\n",
        "\n",
        "sns.boxplot(data=df_filtered, x='multi-label', y='resp_bytes')\n",
        "plt.show()\n",
        "\n",
        "plt.figure(figsize=(12, 8))\n",
        "sns.scatterplot(data=df, x='orig_bytes', y='resp_bytes', hue='multi-label', palette='viridis', alpha=0.7)\n",
        "plt.title('Originator Byte vs Responder Bytes vs tipo de ataque')\n",
        "plt.xlabel('Originator Bytes (orig_bytes)')\n",
        "plt.ylabel('Responder Bytes (resp_bytes)')\n",
        "plt.legend(title='Tipo de Ataque')\n",
        "plt.tight_layout()\n",
        "plt.show()"
      ],
      "metadata": {
        "colab": {
          "base_uri": "https://localhost:8080/",
          "height": 0
        },
        "id": "bUnmLSr1sZHy",
        "outputId": "d202793b-035b-4522-b25e-4b19a69b7476"
      },
      "execution_count": 312,
      "outputs": [
        {
          "output_type": "display_data",
          "data": {
            "text/plain": [
              "<Figure size 1400x800 with 1 Axes>"
            ],
            "image/png": "[encoded data removed]"
          },
          "metadata": {}
        },
        {
          "output_type": "display_data",
          "data": {
            "text/plain": [
              "<Figure size 1200x800 with 1 Axes>"
            ],
            "image/png": "[encoded data removed]"
          },
          "metadata": {}
        }
      ]
    },
    {
      "cell_type": "markdown",
      "source": [
        "**Interpretacion 2 :**\n",
        "\n",
        "De acuerdo a los graficos a pesar de que la mayor frecuencias de intentos de ataques se dan por PartOfAHorizontalPortScan, los dispositivos IoT tienden a dar una mayor cantidad de informacion en respuesta cuando se da un ataque  *C&C-HeartBeat-FileDownload* en el cual C&C se refiere a “Command and Control”, que es un método comúnmente utilizado por los atacantes para controlar dispositivos infectados. HeartBeat se refiere a las señales regulares enviadas entre el dispositivo infectado y el servidor de comando y control para indicar que el dispositivo sigue estando bajo el control del atacanteFileDownload indica que el dispositivo infectado ha sido instruido para descargar un archivo, que podría ser un software malicioso adicional o datos robados"
      ],
      "metadata": {
        "id": "pKfEJ4NPEUEi"
      }
    },
    {
      "cell_type": "markdown",
      "source": [
        "."
      ],
      "metadata": {
        "id": "IdcBexyysfP6"
      }
    },
    {
      "cell_type": "markdown",
      "source": [
        "."
      ],
      "metadata": {
        "id": "qbJg1IzBphED"
      }
    },
    {
      "cell_type": "markdown",
      "source": [
        "."
      ],
      "metadata": {
        "id": "nCLvZLXbphBf"
      }
    },
    {
      "cell_type": "markdown",
      "source": [
        "**3. Cual es la relacion entre los bytes enviados por un atacante, los bytes recibidos y los protocolos utilizados para el ataque?**\n",
        "\n",
        "**Hipotesis**: Se espera que el protocolo utilizado para acceder a dispositivos IoT este relacionado con los protocolos que utilizan los usuarios para colectar toda la data que generan sus dispositivos IoT"
      ],
      "metadata": {
        "id": "KOg7xovFpg_H"
      }
    },
    {
      "cell_type": "code",
      "source": [
        "# Seleccion de columnas que empiezan con 'proto_'\n",
        "proto_columns = [col for col in df.columns if col.startswith('proto_')]\n",
        "\n",
        "# Melting el dataset para tener todas las columnas proto_* en una sola\n",
        "df_melted = df.melt(id_vars=['orig_bytes', 'resp_bytes'], value_vars=proto_columns,\n",
        "                         var_name='protocol', value_name='value')\n",
        "\n",
        "# Filtrando los valores donde el protocolo esta presente (1)\n",
        "df_filtered_proto = df_melted[df_melted['value'] == 1]\n",
        "\n",
        "plt.figure(figsize=(12, 8))\n",
        "sns.scatterplot(data=df_filtered_proto, x='orig_bytes', y='resp_bytes', hue='protocol', palette='viridis', alpha=0.7)\n",
        "plt.title('Originator Bytes vs Responder Bytes vs Protocolos')\n",
        "plt.xlabel('Originator Bytes (orig_bytes)')\n",
        "plt.ylabel('Responder Bytes (resp_bytes)')\n",
        "plt.legend(title='Protocolos')\n",
        "plt.tight_layout()\n",
        "\n",
        "plt.show()"
      ],
      "metadata": {
        "colab": {
          "base_uri": "https://localhost:8080/",
          "height": 0
        },
        "id": "jw3Gvlft1msb",
        "outputId": "bc19b297-d010-4bdc-c2cd-78a791ad6f9f"
      },
      "execution_count": 313,
      "outputs": [
        {
          "output_type": "display_data",
          "data": {
            "text/plain": [
              "<Figure size 1200x800 with 1 Axes>"
            ],
            "image/png": "[encoded data removed]"
          },
          "metadata": {}
        }
      ]
    },
    {
      "cell_type": "markdown",
      "source": [
        "**Interpretacion 3 :**\n",
        "\n",
        "Se tiene de la grafica que el protocolo que mas se utilizan para realizar ataques es el protocolo TCP, esto se entiende a que por lo general la mayoria de dispositivos IoT cuentan con una plataforma de acceso mediante la cual el propietario o usuario de los servicios tiene acceso, ademas del uso de APIs para el acceso a este tipo de plataformas tambien usa protocolo TCP, aunque el protocolo TCP me permite una conectividad mas estable es mas recomendando el uso de protocolos UDP ya que como se aprecia en la grafica tienen una menor incidencia de ataques por su propia naturaleza fragmentada."
      ],
      "metadata": {
        "id": "TGfO-wwSpg9C"
      }
    },
    {
      "cell_type": "markdown",
      "source": [
        "."
      ],
      "metadata": {
        "id": "8Ar9NmrJK0If"
      }
    },
    {
      "cell_type": "markdown",
      "source": [
        "."
      ],
      "metadata": {
        "id": "TS4qrzh7K0Ah"
      }
    },
    {
      "cell_type": "markdown",
      "source": [
        "."
      ],
      "metadata": {
        "id": "P_F14zv_Kz1H"
      }
    },
    {
      "cell_type": "markdown",
      "source": [
        "**4. Cual es la relacion entre los bytes enviados por un atacante, los bytes recibidos y los servicios utilizados para el ataque?**\n",
        "\n",
        "**Hipotesis**: Se espera que el/los servicios utilizado/s para acceder a dispositivos IoT este relacionado con los protocolos que utilizan los usuarios para colectar toda la data que generan sus dispositivos IoT"
      ],
      "metadata": {
        "id": "6nylLCc8LoXA"
      }
    },
    {
      "cell_type": "code",
      "source": [
        " # Extraemos las columnas  proto_* y service_*\n",
        "proto_columns = [col for col in df.columns if col.startswith('proto_')]\n",
        "service_columns = [col for col in df.columns if col.startswith('service_')]\n",
        "\n",
        "\n",
        "# Se preparan los datos de los tipos de protocolos\n",
        "proto_data = df.melt(id_vars=['resp_bytes'], value_vars=proto_columns, var_name='protocol', value_name='count')\n",
        "proto_data = proto_data[proto_data['count'] > 0]\n",
        "\n",
        "# Se preparan los datos de los tipos de servicios\n",
        "service_data =df.melt(id_vars=['resp_bytes'], value_vars=service_columns, var_name='service', value_name='count')\n",
        "service_data = service_data[service_data['count'] > 0]\n",
        "\n",
        "\n",
        "# Obtenemos los protocolos y servicios relevantes\n",
        "top_proto_columns = proto_data['protocol'].value_counts().index[:3]\n",
        "top_service_columns = service_data['service'].value_counts().index[:3]\n",
        "\n",
        "# Se filtran los datos de servicios y protocolos\n",
        "filtered_proto_data = proto_data[proto_data['protocol'].isin(top_proto_columns)]\n",
        "filtered_service_data = service_data[service_data['service'].isin(top_service_columns)]\n",
        "\n",
        "merged_data = pd.merge(filtered_proto_data, filtered_service_data, on='resp_bytes', suffixes=('_proto', '_service'))\n",
        "\n",
        "\n",
        "plt.figure(figsize=(14, 8))\n",
        "sns.scatterplot(x='protocol', y='resp_bytes', hue='service', style='service', data=merged_data, palette='tab10', s=100)\n",
        "plt.title('resp_bytes vs proto_* vs service_*')\n",
        "plt.xticks(rotation=90)\n",
        "plt.legend(title='Service')\n",
        "plt.show()"
      ],
      "metadata": {
        "colab": {
          "base_uri": "https://localhost:8080/",
          "height": 0
        },
        "id": "wvZt7WPU27dE",
        "outputId": "67787e8c-3c44-4bab-bafd-507ac2a3d2f5"
      },
      "execution_count": 314,
      "outputs": [
        {
          "output_type": "display_data",
          "data": {
            "text/plain": [
              "<Figure size 1400x800 with 1 Axes>"
            ],
            "image/png": "[encoded data removed]"
          },
          "metadata": {}
        }
      ]
    },
    {
      "cell_type": "markdown",
      "source": [
        "**Interpretacion 4 :**\n",
        "\n",
        "Se tiene de la grafica que el Servicio que mas se utilizan para realizar ataques es el protocolo HTTP, esto se entiende a que por lo general la mayoria de dispositivos IoT acceden a las plataformas donde se encuentran alojados los datos adquiridos, ademas las APIs tambien hacen uso de este servicio para el acceso a los datos y usuarios, lo mas recomendable para mayor seguridad es la implementacion del protocolo HTTPS y deshabilitar todos los puertos del protocolo HTTP de esta forma el atacante no tiene acceso ni metodos para escanear vulnerabilidades."
      ],
      "metadata": {
        "id": "0sk0HIPfL7Hj"
      }
    }
  ]
}