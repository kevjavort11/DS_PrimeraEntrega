{
  "nbformat": 4,
  "nbformat_minor": 0,
  "metadata": {
    "colab": {
      "provenance": [],
      "authorship_tag": "ABX9TyMFcnpDNkXkmpvMnUaAQycw",
      "include_colab_link": true
    },
    "kernelspec": {
      "name": "python3",
      "display_name": "Python 3"
    },
    "language_info": {
      "name": "python"
    }
  },
  "cells": [
    {
      "cell_type": "markdown",
      "metadata": {
        "id": "view-in-github",
        "colab_type": "text"
      },
      "source": [
        "<a href=\"https://colab.research.google.com/github/kevjavort11/DS_PrimeraEntrega/blob/main/ProyectoDS_ParteI_Ortega.ipynb\" target=\"_parent\"><img src=\"https://colab.research.google.com/assets/colab-badge.svg\" alt=\"Open In Colab\"/></a>"
      ]
    },
    {
      "cell_type": "markdown",
      "source": [
        "## Primera Entrega - **Visualizaciones**"
      ],
      "metadata": {
        "id": "QdVwrkVF8xDT"
      }
    },
    {
      "cell_type": "code",
      "source": [
        "!pip install gdown\n",
        "# Libreria para descargar el Dataset ya que cuando se crea el folder dentro\n",
        "# de Colab no se linkea en Github\n",
        "url = \"https://drive.google.com/uc?id=1N9LjI_UllPDh-JF5Ia5UBDgPodRBzRSk\"  # Modified URL for direct download\n",
        "output = 'data.csv'\n",
        "gdown.download(url, output, quiet=False)"
      ],
      "metadata": {
        "colab": {
          "base_uri": "https://localhost:8080/",
          "height": 323
        },
        "collapsed": true,
        "id": "aIRErCh-G1CS",
        "outputId": "d532e20e-d8e4-4d11-f18c-1fb90fa12e0a"
      },
      "execution_count": 12,
      "outputs": [
        {
          "output_type": "stream",
          "name": "stdout",
          "text": [
            "Requirement already satisfied: gdown in /usr/local/lib/python3.10/dist-packages (5.1.0)\n",
            "Requirement already satisfied: beautifulsoup4 in /usr/local/lib/python3.10/dist-packages (from gdown) (4.12.3)\n",
            "Requirement already satisfied: filelock in /usr/local/lib/python3.10/dist-packages (from gdown) (3.14.0)\n",
            "Requirement already satisfied: requests[socks] in /usr/local/lib/python3.10/dist-packages (from gdown) (2.31.0)\n",
            "Requirement already satisfied: tqdm in /usr/local/lib/python3.10/dist-packages (from gdown) (4.66.2)\n",
            "Requirement already satisfied: soupsieve>1.2 in /usr/local/lib/python3.10/dist-packages (from beautifulsoup4->gdown) (2.5)\n",
            "Requirement already satisfied: charset-normalizer<4,>=2 in /usr/local/lib/python3.10/dist-packages (from requests[socks]->gdown) (3.3.2)\n",
            "Requirement already satisfied: idna<4,>=2.5 in /usr/local/lib/python3.10/dist-packages (from requests[socks]->gdown) (3.7)\n",
            "Requirement already satisfied: urllib3<3,>=1.21.1 in /usr/local/lib/python3.10/dist-packages (from requests[socks]->gdown) (2.0.7)\n",
            "Requirement already satisfied: certifi>=2017.4.17 in /usr/local/lib/python3.10/dist-packages (from requests[socks]->gdown) (2024.2.2)\n",
            "Requirement already satisfied: PySocks!=1.5.7,>=1.5.6 in /usr/local/lib/python3.10/dist-packages (from requests[socks]->gdown) (1.7.1)\n"
          ]
        },
        {
          "output_type": "stream",
          "name": "stderr",
          "text": [
            "Downloading...\n",
            "From: https://drive.google.com/uc?id=1N9LjI_UllPDh-JF5Ia5UBDgPodRBzRSk\n",
            "To: /content/data.csv\n",
            "100%|██████████| 2.45M/2.45M [00:00<00:00, 138MB/s]\n"
          ]
        },
        {
          "output_type": "execute_result",
          "data": {
            "text/plain": [
              "'data.csv'"
            ],
            "application/vnd.google.colaboratory.intrinsic+json": {
              "type": "string"
            }
          },
          "metadata": {},
          "execution_count": 12
        }
      ]
    },
    {
      "source": [
        "import pandas as pd\n",
        "import gdown\n",
        "\n",
        "try:\n",
        "    df = pd.read_csv('data.csv', sep=',')\n",
        "except ParserError:\n",
        "    df = pd.read_csv('data.csv', sep=';')\n",
        "\n",
        "print(df.head())"
      ],
      "cell_type": "code",
      "metadata": {
        "colab": {
          "base_uri": "https://localhost:8080/"
        },
        "id": "Hw-nj6mbD7zU",
        "outputId": "eeded686-d8e5-49e5-affb-1c2c9d52fc49"
      },
      "execution_count": 13,
      "outputs": [
        {
          "output_type": "stream",
          "name": "stdout",
          "text": [
            "               company                       job_title  company_rating  \\\n",
            "0                  ABB             Junior Data Analyst             4.0   \n",
            "1              Philips          Data Scientist - AI/ML             4.0   \n",
            "2                 HSBC              Data Science GSC’s             3.9   \n",
            "3    Facctum Solutions                    Data Analyst             NaN   \n",
            "4  JPMorgan Chase & Co  Data and Analytics - Associate             4.0   \n",
            "\n",
            "                                     job_description   location  \\\n",
            "0  Junior Data Analyst\\nTake your next career ste...  Bengaluru   \n",
            "1  Job Title\\nData Scientist - AI/ML\\nJob Descrip...  Bengaluru   \n",
            "2  Job description\\nGraduate/ Post-graduate degre...  Bengaluru   \n",
            "3  Job Description\\nExperience: 0 - 2 years in da...  Karnataka   \n",
            "4  JOB DESCRIPTION\\n\\nYou are a strategic thinker...      India   \n",
            "\n",
            "  salary_avg_estimate salary_estimate_payperiod       company_size  \\\n",
            "0           ₹3,25,236                /yr (est.)   10000+ Employees   \n",
            "1                 NaN                       NaN   10000+ Employees   \n",
            "2                 NaN                       NaN   10000+ Employees   \n",
            "3                 NaN                       NaN  1 to 50 Employees   \n",
            "4                 NaN                       NaN   10000+ Employees   \n",
            "\n",
            "  company_founded    employment_type                         industry  \\\n",
            "0            1883   Company - Public        Electronics Manufacturing   \n",
            "1            1891   Company - Public  Healthcare Services & Hospitals   \n",
            "2            1865   Company - Public                Banking & Lending   \n",
            "3              --  Company - Private                               --   \n",
            "4            1799   Company - Public                Banking & Lending   \n",
            "\n",
            "          sector                   revenue  career_opportunities_rating  \\\n",
            "0  Manufacturing        $10+ billion (USD)                          3.7   \n",
            "1     Healthcare        $10+ billion (USD)                          3.8   \n",
            "2        Finance        $10+ billion (USD)                          3.6   \n",
            "3             --  Unknown / Non-Applicable                          NaN   \n",
            "4        Finance        $10+ billion (USD)                          4.0   \n",
            "\n",
            "   comp_and_benefits_rating  culture_and_values_rating  \\\n",
            "0                       3.6                        4.0   \n",
            "1                       3.7                        4.0   \n",
            "2                       3.6                        3.8   \n",
            "3                       NaN                        NaN   \n",
            "4                       3.9                        3.9   \n",
            "\n",
            "   senior_management_rating  work_life_balance_rating  \n",
            "0                       3.5                       3.9  \n",
            "1                       3.5                       4.0  \n",
            "2                       3.4                       3.7  \n",
            "3                       NaN                       NaN  \n",
            "4                       3.6                       3.7  \n"
          ]
        }
      ]
    },
    {
      "cell_type": "code",
      "source": [],
      "metadata": {
        "id": "-rjLutWXENcw"
      },
      "execution_count": null,
      "outputs": []
    }
  ]
}